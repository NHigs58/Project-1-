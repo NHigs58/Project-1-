{
 "cells": [
  {
   "cell_type": "code",
   "execution_count": 44,
   "metadata": {},
   "outputs": [],
   "source": [
    "# Dependencies and Setup\n",
    "import matplotlib.pyplot as plt\n",
    "import pandas as pd\n",
    "import numpy as np\n",
    "import requests\n",
    "import time\n",
    "from scipy.stats import linregress\n",
    "from pprint import pprint \n",
    "import json\n",
    "import scipy.stats as stats"
   ]
  },
  {
   "cell_type": "markdown",
   "metadata": {},
   "source": [
    "# Atlanta Data"
   ]
  },
  {
   "cell_type": "code",
   "execution_count": 45,
   "metadata": {},
   "outputs": [
    {
     "data": {
      "text/html": [
       "<div>\n",
       "<style scoped>\n",
       "    .dataframe tbody tr th:only-of-type {\n",
       "        vertical-align: middle;\n",
       "    }\n",
       "\n",
       "    .dataframe tbody tr th {\n",
       "        vertical-align: top;\n",
       "    }\n",
       "\n",
       "    .dataframe thead th {\n",
       "        text-align: right;\n",
       "    }\n",
       "</style>\n",
       "<table border=\"1\" class=\"dataframe\">\n",
       "  <thead>\n",
       "    <tr style=\"text-align: right;\">\n",
       "      <th></th>\n",
       "      <th>Date</th>\n",
       "      <th>Crime Count</th>\n",
       "      <th>Moon Phase</th>\n",
       "      <th>Special</th>\n",
       "      <th>Special Type</th>\n",
       "    </tr>\n",
       "  </thead>\n",
       "  <tbody>\n",
       "    <tr>\n",
       "      <th>0</th>\n",
       "      <td>1/1/15</td>\n",
       "      <td>87.0</td>\n",
       "      <td>NaN</td>\n",
       "      <td>NaN</td>\n",
       "      <td>NaN</td>\n",
       "    </tr>\n",
       "    <tr>\n",
       "      <th>1</th>\n",
       "      <td>1/10/15</td>\n",
       "      <td>71.0</td>\n",
       "      <td>NaN</td>\n",
       "      <td>NaN</td>\n",
       "      <td>NaN</td>\n",
       "    </tr>\n",
       "    <tr>\n",
       "      <th>2</th>\n",
       "      <td>1/11/15</td>\n",
       "      <td>82.0</td>\n",
       "      <td>NaN</td>\n",
       "      <td>NaN</td>\n",
       "      <td>NaN</td>\n",
       "    </tr>\n",
       "    <tr>\n",
       "      <th>3</th>\n",
       "      <td>1/12/15</td>\n",
       "      <td>95.0</td>\n",
       "      <td>NaN</td>\n",
       "      <td>NaN</td>\n",
       "      <td>NaN</td>\n",
       "    </tr>\n",
       "    <tr>\n",
       "      <th>4</th>\n",
       "      <td>1/13/15</td>\n",
       "      <td>64.0</td>\n",
       "      <td>Third Quarter</td>\n",
       "      <td>n</td>\n",
       "      <td>NaN</td>\n",
       "    </tr>\n",
       "  </tbody>\n",
       "</table>\n",
       "</div>"
      ],
      "text/plain": [
       "      Date  Crime Count     Moon Phase Special Special Type\n",
       "0   1/1/15         87.0            NaN     NaN          NaN\n",
       "1  1/10/15         71.0            NaN     NaN          NaN\n",
       "2  1/11/15         82.0            NaN     NaN          NaN\n",
       "3  1/12/15         95.0            NaN     NaN          NaN\n",
       "4  1/13/15         64.0  Third Quarter       n          NaN"
      ]
     },
     "execution_count": 45,
     "metadata": {},
     "output_type": "execute_result"
    }
   ],
   "source": [
    "# Atlanta Data\n",
    "csv_path = \"Resources/AtlMoon.csv\"\n",
    "atl_df = pd.read_csv(csv_path)\n",
    "atl_df.head()"
   ]
  },
  {
   "cell_type": "code",
   "execution_count": 46,
   "metadata": {},
   "outputs": [
    {
     "data": {
      "text/plain": [
       "Full Moon        13\n",
       "New Moon         12\n",
       "First Quarter    12\n",
       "Third Quarter    12\n",
       "Name: Moon Phase, dtype: int64"
      ]
     },
     "execution_count": 46,
     "metadata": {},
     "output_type": "execute_result"
    }
   ],
   "source": [
    "atl_df[\"Moon Phase\"].value_counts()"
   ]
  },
  {
   "cell_type": "code",
   "execution_count": 47,
   "metadata": {},
   "outputs": [
    {
     "data": {
      "text/plain": [
       "Moon Phase\n",
       "First Quarter    82.083333\n",
       "Full Moon        83.153846\n",
       "New Moon         82.250000\n",
       "Third Quarter    83.416667\n",
       "Name: Crime Count, dtype: float64"
      ]
     },
     "execution_count": 47,
     "metadata": {},
     "output_type": "execute_result"
    }
   ],
   "source": [
    "new_df = atl_df.groupby(['Moon Phase'])['Crime Count'].mean()\n",
    "new_df"
   ]
  },
  {
   "cell_type": "code",
   "execution_count": 48,
   "metadata": {
    "scrolled": true
   },
   "outputs": [
    {
     "data": {
      "image/png": "[encoded data removed]",
      "text/plain": [
       "<Figure size 432x288 with 1 Axes>"
      ]
     },
     "metadata": {
      "needs_background": "light"
     },
     "output_type": "display_data"
    }
   ],
   "source": [
    "crime_moon_graph = new_df.plot(kind=\"bar\", color=\"green\")\n",
    "\n",
    "plt.title('Crime Count per Moon Phase Atlanta')\n",
    "plt.xlabel('Moon Phase')\n",
    "plt.ylabel('Crime Count')\n",
    "plt.ylim(0,100)\n",
    "\n",
    "plt.savefig(\"Images/BarAtl.png\")\n"
   ]
  },
  {
   "cell_type": "code",
   "execution_count": 49,
   "metadata": {},
   "outputs": [
    {
     "data": {
      "text/html": [
       "<div>\n",
       "<style scoped>\n",
       "    .dataframe tbody tr th:only-of-type {\n",
       "        vertical-align: middle;\n",
       "    }\n",
       "\n",
       "    .dataframe tbody tr th {\n",
       "        vertical-align: top;\n",
       "    }\n",
       "\n",
       "    .dataframe thead th {\n",
       "        text-align: right;\n",
       "    }\n",
       "</style>\n",
       "<table border=\"1\" class=\"dataframe\">\n",
       "  <thead>\n",
       "    <tr style=\"text-align: right;\">\n",
       "      <th></th>\n",
       "      <th>Date</th>\n",
       "      <th>Crime</th>\n",
       "      <th>Violent Crime</th>\n",
       "      <th>NonViolent Crime</th>\n",
       "    </tr>\n",
       "  </thead>\n",
       "  <tbody>\n",
       "    <tr>\n",
       "      <th>0</th>\n",
       "      <td>1/1/15</td>\n",
       "      <td>87</td>\n",
       "      <td>30</td>\n",
       "      <td>57</td>\n",
       "    </tr>\n",
       "    <tr>\n",
       "      <th>1</th>\n",
       "      <td>1/10/15</td>\n",
       "      <td>71</td>\n",
       "      <td>17</td>\n",
       "      <td>54</td>\n",
       "    </tr>\n",
       "    <tr>\n",
       "      <th>2</th>\n",
       "      <td>1/11/15</td>\n",
       "      <td>82</td>\n",
       "      <td>23</td>\n",
       "      <td>59</td>\n",
       "    </tr>\n",
       "    <tr>\n",
       "      <th>3</th>\n",
       "      <td>1/12/15</td>\n",
       "      <td>95</td>\n",
       "      <td>25</td>\n",
       "      <td>70</td>\n",
       "    </tr>\n",
       "    <tr>\n",
       "      <th>4</th>\n",
       "      <td>1/13/15</td>\n",
       "      <td>64</td>\n",
       "      <td>26</td>\n",
       "      <td>38</td>\n",
       "    </tr>\n",
       "  </tbody>\n",
       "</table>\n",
       "</div>"
      ],
      "text/plain": [
       "      Date  Crime  Violent Crime  NonViolent Crime\n",
       "0   1/1/15     87             30                57\n",
       "1  1/10/15     71             17                54\n",
       "2  1/11/15     82             23                59\n",
       "3  1/12/15     95             25                70\n",
       "4  1/13/15     64             26                38"
      ]
     },
     "execution_count": 49,
     "metadata": {},
     "output_type": "execute_result"
    }
   ],
   "source": [
    "# Atlanta Violent vs Non-Violent Data\n",
    "csv_path = \"Atlanta/AtlantaCrimeCate.csv\"\n",
    "atl_violent_df = pd.read_csv(csv_path)\n",
    "violent_df = atl_violent_df.rename(columns={\"Date of Crime\": \"Date\"})\n",
    "violent_df.head()"
   ]
  },
  {
   "cell_type": "code",
   "execution_count": 50,
   "metadata": {},
   "outputs": [
    {
     "data": {
      "text/html": [
       "<div>\n",
       "<style scoped>\n",
       "    .dataframe tbody tr th:only-of-type {\n",
       "        vertical-align: middle;\n",
       "    }\n",
       "\n",
       "    .dataframe tbody tr th {\n",
       "        vertical-align: top;\n",
       "    }\n",
       "\n",
       "    .dataframe thead th {\n",
       "        text-align: right;\n",
       "    }\n",
       "</style>\n",
       "<table border=\"1\" class=\"dataframe\">\n",
       "  <thead>\n",
       "    <tr style=\"text-align: right;\">\n",
       "      <th></th>\n",
       "      <th>Date</th>\n",
       "      <th>Crime</th>\n",
       "      <th>Violent Crime</th>\n",
       "      <th>NonViolent Crime</th>\n",
       "      <th>Crime Count</th>\n",
       "      <th>Moon Phase</th>\n",
       "      <th>Special</th>\n",
       "      <th>Special Type</th>\n",
       "    </tr>\n",
       "  </thead>\n",
       "  <tbody>\n",
       "    <tr>\n",
       "      <th>0</th>\n",
       "      <td>1/1/15</td>\n",
       "      <td>87.0</td>\n",
       "      <td>30.0</td>\n",
       "      <td>57.0</td>\n",
       "      <td>87.0</td>\n",
       "      <td>NaN</td>\n",
       "      <td>NaN</td>\n",
       "      <td>NaN</td>\n",
       "    </tr>\n",
       "    <tr>\n",
       "      <th>1</th>\n",
       "      <td>1/10/15</td>\n",
       "      <td>71.0</td>\n",
       "      <td>17.0</td>\n",
       "      <td>54.0</td>\n",
       "      <td>71.0</td>\n",
       "      <td>NaN</td>\n",
       "      <td>NaN</td>\n",
       "      <td>NaN</td>\n",
       "    </tr>\n",
       "    <tr>\n",
       "      <th>2</th>\n",
       "      <td>1/11/15</td>\n",
       "      <td>82.0</td>\n",
       "      <td>23.0</td>\n",
       "      <td>59.0</td>\n",
       "      <td>82.0</td>\n",
       "      <td>NaN</td>\n",
       "      <td>NaN</td>\n",
       "      <td>NaN</td>\n",
       "    </tr>\n",
       "    <tr>\n",
       "      <th>3</th>\n",
       "      <td>1/12/15</td>\n",
       "      <td>95.0</td>\n",
       "      <td>25.0</td>\n",
       "      <td>70.0</td>\n",
       "      <td>95.0</td>\n",
       "      <td>NaN</td>\n",
       "      <td>NaN</td>\n",
       "      <td>NaN</td>\n",
       "    </tr>\n",
       "    <tr>\n",
       "      <th>4</th>\n",
       "      <td>1/13/15</td>\n",
       "      <td>64.0</td>\n",
       "      <td>26.0</td>\n",
       "      <td>38.0</td>\n",
       "      <td>64.0</td>\n",
       "      <td>Third Quarter</td>\n",
       "      <td>n</td>\n",
       "      <td>NaN</td>\n",
       "    </tr>\n",
       "    <tr>\n",
       "      <th>...</th>\n",
       "      <td>...</td>\n",
       "      <td>...</td>\n",
       "      <td>...</td>\n",
       "      <td>...</td>\n",
       "      <td>...</td>\n",
       "      <td>...</td>\n",
       "      <td>...</td>\n",
       "      <td>...</td>\n",
       "    </tr>\n",
       "    <tr>\n",
       "      <th>361</th>\n",
       "      <td>9/6/15</td>\n",
       "      <td>98.0</td>\n",
       "      <td>20.0</td>\n",
       "      <td>78.0</td>\n",
       "      <td>98.0</td>\n",
       "      <td>NaN</td>\n",
       "      <td>NaN</td>\n",
       "      <td>NaN</td>\n",
       "    </tr>\n",
       "    <tr>\n",
       "      <th>362</th>\n",
       "      <td>9/7/15</td>\n",
       "      <td>98.0</td>\n",
       "      <td>29.0</td>\n",
       "      <td>69.0</td>\n",
       "      <td>98.0</td>\n",
       "      <td>NaN</td>\n",
       "      <td>NaN</td>\n",
       "      <td>NaN</td>\n",
       "    </tr>\n",
       "    <tr>\n",
       "      <th>363</th>\n",
       "      <td>9/8/15</td>\n",
       "      <td>105.0</td>\n",
       "      <td>35.0</td>\n",
       "      <td>70.0</td>\n",
       "      <td>105.0</td>\n",
       "      <td>NaN</td>\n",
       "      <td>NaN</td>\n",
       "      <td>NaN</td>\n",
       "    </tr>\n",
       "    <tr>\n",
       "      <th>364</th>\n",
       "      <td>9/9/15</td>\n",
       "      <td>88.0</td>\n",
       "      <td>22.0</td>\n",
       "      <td>66.0</td>\n",
       "      <td>88.0</td>\n",
       "      <td>NaN</td>\n",
       "      <td>NaN</td>\n",
       "      <td>NaN</td>\n",
       "    </tr>\n",
       "    <tr>\n",
       "      <th>365</th>\n",
       "      <td>NaN</td>\n",
       "      <td>NaN</td>\n",
       "      <td>NaN</td>\n",
       "      <td>NaN</td>\n",
       "      <td>NaN</td>\n",
       "      <td>NaN</td>\n",
       "      <td>NaN</td>\n",
       "      <td>NaN</td>\n",
       "    </tr>\n",
       "  </tbody>\n",
       "</table>\n",
       "<p>366 rows × 8 columns</p>\n",
       "</div>"
      ],
      "text/plain": [
       "        Date  Crime  Violent Crime  NonViolent Crime  Crime Count  \\\n",
       "0     1/1/15   87.0           30.0              57.0         87.0   \n",
       "1    1/10/15   71.0           17.0              54.0         71.0   \n",
       "2    1/11/15   82.0           23.0              59.0         82.0   \n",
       "3    1/12/15   95.0           25.0              70.0         95.0   \n",
       "4    1/13/15   64.0           26.0              38.0         64.0   \n",
       "..       ...    ...            ...               ...          ...   \n",
       "361   9/6/15   98.0           20.0              78.0         98.0   \n",
       "362   9/7/15   98.0           29.0              69.0         98.0   \n",
       "363   9/8/15  105.0           35.0              70.0        105.0   \n",
       "364   9/9/15   88.0           22.0              66.0         88.0   \n",
       "365      NaN    NaN            NaN               NaN          NaN   \n",
       "\n",
       "        Moon Phase Special Special Type  \n",
       "0              NaN     NaN          NaN  \n",
       "1              NaN     NaN          NaN  \n",
       "2              NaN     NaN          NaN  \n",
       "3              NaN     NaN          NaN  \n",
       "4    Third Quarter       n          NaN  \n",
       "..             ...     ...          ...  \n",
       "361            NaN     NaN          NaN  \n",
       "362            NaN     NaN          NaN  \n",
       "363            NaN     NaN          NaN  \n",
       "364            NaN     NaN          NaN  \n",
       "365            NaN     NaN          NaN  \n",
       "\n",
       "[366 rows x 8 columns]"
      ]
     },
     "execution_count": 50,
     "metadata": {},
     "output_type": "execute_result"
    }
   ],
   "source": [
    "# combine both of the csv files\n",
    "Atlanta_df = pd.merge(violent_df, atl_df, how=\"outer\", on = \"Date\")\n",
    "\n",
    "Atlanta_df"
   ]
  },
  {
   "cell_type": "code",
   "execution_count": 51,
   "metadata": {},
   "outputs": [
    {
     "data": {
      "text/html": [
       "<div>\n",
       "<style scoped>\n",
       "    .dataframe tbody tr th:only-of-type {\n",
       "        vertical-align: middle;\n",
       "    }\n",
       "\n",
       "    .dataframe tbody tr th {\n",
       "        vertical-align: top;\n",
       "    }\n",
       "\n",
       "    .dataframe thead th {\n",
       "        text-align: right;\n",
       "    }\n",
       "</style>\n",
       "<table border=\"1\" class=\"dataframe\">\n",
       "  <thead>\n",
       "    <tr style=\"text-align: right;\">\n",
       "      <th></th>\n",
       "      <th>Violent Crime</th>\n",
       "      <th>NonViolent Crime</th>\n",
       "    </tr>\n",
       "    <tr>\n",
       "      <th>Moon Phase</th>\n",
       "      <th></th>\n",
       "      <th></th>\n",
       "    </tr>\n",
       "  </thead>\n",
       "  <tbody>\n",
       "    <tr>\n",
       "      <th>First Quarter</th>\n",
       "      <td>23.916667</td>\n",
       "      <td>58.166667</td>\n",
       "    </tr>\n",
       "    <tr>\n",
       "      <th>Full Moon</th>\n",
       "      <td>23.846154</td>\n",
       "      <td>59.307692</td>\n",
       "    </tr>\n",
       "    <tr>\n",
       "      <th>New Moon</th>\n",
       "      <td>23.666667</td>\n",
       "      <td>58.583333</td>\n",
       "    </tr>\n",
       "    <tr>\n",
       "      <th>Third Quarter</th>\n",
       "      <td>22.000000</td>\n",
       "      <td>61.416667</td>\n",
       "    </tr>\n",
       "  </tbody>\n",
       "</table>\n",
       "</div>"
      ],
      "text/plain": [
       "               Violent Crime   NonViolent Crime\n",
       "Moon Phase                                     \n",
       "First Quarter       23.916667         58.166667\n",
       "Full Moon           23.846154         59.307692\n",
       "New Moon            23.666667         58.583333\n",
       "Third Quarter       22.000000         61.416667"
      ]
     },
     "execution_count": 51,
     "metadata": {},
     "output_type": "execute_result"
    }
   ],
   "source": [
    "violent = Atlanta_df.groupby(['Moon Phase'])['Violent Crime'].mean()\n",
    "NonViolent = Atlanta_df.groupby(['Moon Phase'])['NonViolent Crime'].mean()\n",
    "\n",
    "\n",
    "combined_df = pd.DataFrame({\"Violent Crime \" : violent,\n",
    "                           \"NonViolent Crime\" : NonViolent})\n",
    "combined_df"
   ]
  },
  {
   "cell_type": "code",
   "execution_count": 52,
   "metadata": {
    "scrolled": true
   },
   "outputs": [
    {
     "data": {
      "image/png": "[encoded data removed]",
      "text/plain": [
       "<Figure size 432x288 with 1 Axes>"
      ]
     },
     "metadata": {
      "needs_background": "light"
     },
     "output_type": "display_data"
    }
   ],
   "source": [
    "violent_moon_graph = combined_df.plot(kind=\"bar\")\n",
    "\n",
    "plt.title('Average Violent vs NonViolent Crimes per Moon Phase Atlanta')\n",
    "plt.xlabel('Moon Phase')\n",
    "plt.ylabel('Crime Count')\n",
    "plt.legend(loc = \"best\")\n",
    "plt.ylim(0,80)\n",
    "plt.savefig(\"Images/ViolentVsNonViolentBarAtl.png\")"
   ]
  },
  {
   "cell_type": "code",
   "execution_count": 53,
   "metadata": {},
   "outputs": [
    {
     "data": {
      "text/plain": [
       "(0, 120)"
      ]
     },
     "execution_count": 53,
     "metadata": {},
     "output_type": "execute_result"
    },
    {
     "data": {
      "image/png": "[encoded data removed]",
      "text/plain": [
       "<Figure size 1440x720 with 1 Axes>"
      ]
     },
     "metadata": {
      "needs_background": "light"
     },
     "output_type": "display_data"
    }
   ],
   "source": [
    "#Box plot of total crime by moon phase\n",
    "Atlanta_df.boxplot(\"Crime Count\", by=\"Moon Phase\", figsize=(20, 10))\n",
    "plt.title('Total Crime Count vs Moon Phase')\n",
    "plt.ylabel('Crime Count')\n",
    "plt.ylim(0,120)"
   ]
  },
  {
   "cell_type": "code",
   "execution_count": 54,
   "metadata": {},
   "outputs": [
    {
     "data": {
      "text/plain": [
       "F_onewayResult(statistic=0.02254532669437951, pvalue=0.9953458218363206)"
      ]
     },
     "execution_count": 54,
     "metadata": {},
     "output_type": "execute_result"
    }
   ],
   "source": [
    "#total crime anova test\n",
    "group1 = Atlanta_df[Atlanta_df['Moon Phase'] == \"First Quarter\"][\"Crime Count\"]\n",
    "group2 = Atlanta_df[Atlanta_df['Moon Phase'] == \"Full Moon\"][\"Crime Count\"]\n",
    "group3 = Atlanta_df[Atlanta_df['Moon Phase'] == \"New Moon\"][\"Crime Count\"]\n",
    "group4 = Atlanta_df[Atlanta_df['Moon Phase'] == \"Third Quarter\"][\"Crime Count\"]\n",
    "\n",
    "stats.f_oneway(group1, group2, group3, group4)"
   ]
  },
  {
   "cell_type": "code",
   "execution_count": 55,
   "metadata": {
    "scrolled": false
   },
   "outputs": [
    {
     "data": {
      "text/plain": [
       "(0, 40)"
      ]
     },
     "execution_count": 55,
     "metadata": {},
     "output_type": "execute_result"
    },
    {
     "data": {
      "image/png": "[encoded data removed]",
      "text/plain": [
       "<Figure size 1440x720 with 1 Axes>"
      ]
     },
     "metadata": {
      "needs_background": "light"
     },
     "output_type": "display_data"
    }
   ],
   "source": [
    "#Box plot of total violent crime by moon phase\n",
    "Atlanta_df.boxplot(\"Violent Crime\", by=\"Moon Phase\", figsize=(20, 10))\n",
    "plt.title('Violent Crime Count vs Moon Phase')\n",
    "plt.ylabel('Crime Count')\n",
    "plt.ylim(0,40)"
   ]
  },
  {
   "cell_type": "code",
   "execution_count": 56,
   "metadata": {},
   "outputs": [
    {
     "data": {
      "text/plain": [
       "F_onewayResult(statistic=0.3460431627997599, pvalue=0.7921516254427325)"
      ]
     },
     "execution_count": 56,
     "metadata": {},
     "output_type": "execute_result"
    }
   ],
   "source": [
    "#total crime anova test\n",
    "group1 = Atlanta_df[Atlanta_df['Moon Phase'] == \"First Quarter\"][\"Violent Crime\"]\n",
    "group2 = Atlanta_df[Atlanta_df['Moon Phase'] == \"Full Moon\"][\"Violent Crime\"]\n",
    "group3 = Atlanta_df[Atlanta_df['Moon Phase'] == \"New Moon\"][\"Violent Crime\"]\n",
    "group4 = Atlanta_df[Atlanta_df['Moon Phase'] == \"Third Quarter\"][\"Violent Crime\"]\n",
    "\n",
    "stats.f_oneway(group1, group2, group3, group4)"
   ]
  },
  {
   "cell_type": "code",
   "execution_count": 57,
   "metadata": {},
   "outputs": [
    {
     "data": {
      "text/plain": [
       "(0, 100)"
      ]
     },
     "execution_count": 57,
     "metadata": {},
     "output_type": "execute_result"
    },
    {
     "data": {
      "image/png": "[encoded data removed]",
      "text/plain": [
       "<Figure size 1440x720 with 1 Axes>"
      ]
     },
     "metadata": {
      "needs_background": "light"
     },
     "output_type": "display_data"
    }
   ],
   "source": [
    "#Box plot of total non-violent crime by moon phase\n",
    "Atlanta_df.boxplot(\"NonViolent Crime\", by=\"Moon Phase\", figsize=(20, 10))\n",
    "plt.title('Non-Violent Crime Count vs Moon Phase')\n",
    "plt.ylabel('Crime Count')\n",
    "plt.ylim(0,100)"
   ]
  },
  {
   "cell_type": "code",
   "execution_count": 58,
   "metadata": {},
   "outputs": [
    {
     "data": {
      "text/plain": [
       "F_onewayResult(statistic=0.12152126269727316, pvalue=0.9469538496777776)"
      ]
     },
     "execution_count": 58,
     "metadata": {},
     "output_type": "execute_result"
    }
   ],
   "source": [
    "#total crime anova test\n",
    "group1 = Atlanta_df[Atlanta_df['Moon Phase'] == \"First Quarter\"][\"NonViolent Crime\"]\n",
    "group2 = Atlanta_df[Atlanta_df['Moon Phase'] == \"Full Moon\"][\"NonViolent Crime\"]\n",
    "group3 = Atlanta_df[Atlanta_df['Moon Phase'] == \"New Moon\"][\"NonViolent Crime\"]\n",
    "group4 = Atlanta_df[Atlanta_df['Moon Phase'] == \"Third Quarter\"][\"NonViolent Crime\"]\n",
    "\n",
    "stats.f_oneway(group1, group2, group3, group4)"
   ]
  },
  {
   "cell_type": "markdown",
   "metadata": {},
   "source": [
    "# Portland Data"
   ]
  },
  {
   "cell_type": "code",
   "execution_count": 59,
   "metadata": {},
   "outputs": [
    {
     "data": {
      "text/html": [
       "<div>\n",
       "<style scoped>\n",
       "    .dataframe tbody tr th:only-of-type {\n",
       "        vertical-align: middle;\n",
       "    }\n",
       "\n",
       "    .dataframe tbody tr th {\n",
       "        vertical-align: top;\n",
       "    }\n",
       "\n",
       "    .dataframe thead th {\n",
       "        text-align: right;\n",
       "    }\n",
       "</style>\n",
       "<table border=\"1\" class=\"dataframe\">\n",
       "  <thead>\n",
       "    <tr style=\"text-align: right;\">\n",
       "      <th></th>\n",
       "      <th>Date</th>\n",
       "      <th>Crime Count</th>\n",
       "      <th>Moon Phase</th>\n",
       "      <th>Special</th>\n",
       "      <th>Special Type</th>\n",
       "    </tr>\n",
       "  </thead>\n",
       "  <tbody>\n",
       "    <tr>\n",
       "      <th>0</th>\n",
       "      <td>1/1/2015</td>\n",
       "      <td>44.0</td>\n",
       "      <td>NaN</td>\n",
       "      <td>NaN</td>\n",
       "      <td>NaN</td>\n",
       "    </tr>\n",
       "    <tr>\n",
       "      <th>1</th>\n",
       "      <td>1/10/2015</td>\n",
       "      <td>1.0</td>\n",
       "      <td>NaN</td>\n",
       "      <td>NaN</td>\n",
       "      <td>NaN</td>\n",
       "    </tr>\n",
       "    <tr>\n",
       "      <th>2</th>\n",
       "      <td>1/11/2015</td>\n",
       "      <td>3.0</td>\n",
       "      <td>NaN</td>\n",
       "      <td>NaN</td>\n",
       "      <td>NaN</td>\n",
       "    </tr>\n",
       "    <tr>\n",
       "      <th>3</th>\n",
       "      <td>1/12/2015</td>\n",
       "      <td>2.0</td>\n",
       "      <td>NaN</td>\n",
       "      <td>NaN</td>\n",
       "      <td>NaN</td>\n",
       "    </tr>\n",
       "    <tr>\n",
       "      <th>4</th>\n",
       "      <td>1/13/2015</td>\n",
       "      <td>3.0</td>\n",
       "      <td>Third Quarter</td>\n",
       "      <td>n</td>\n",
       "      <td>NaN</td>\n",
       "    </tr>\n",
       "  </tbody>\n",
       "</table>\n",
       "</div>"
      ],
      "text/plain": [
       "        Date  Crime Count     Moon Phase Special Special Type\n",
       "0   1/1/2015         44.0            NaN     NaN          NaN\n",
       "1  1/10/2015          1.0            NaN     NaN          NaN\n",
       "2  1/11/2015          3.0            NaN     NaN          NaN\n",
       "3  1/12/2015          2.0            NaN     NaN          NaN\n",
       "4  1/13/2015          3.0  Third Quarter       n          NaN"
      ]
     },
     "execution_count": 59,
     "metadata": {},
     "output_type": "execute_result"
    }
   ],
   "source": [
    "# Portlabd Data\n",
    "csv_path = \"Resources/pdxMoon.csv\"\n",
    "pdx_df = pd.read_csv(csv_path)\n",
    "pdx_df.head()"
   ]
  },
  {
   "cell_type": "code",
   "execution_count": 60,
   "metadata": {},
   "outputs": [
    {
     "data": {
      "text/plain": [
       "Full Moon        13\n",
       "New Moon         12\n",
       "First Quarter    12\n",
       "Third Quarter    12\n",
       "Name: Moon Phase, dtype: int64"
      ]
     },
     "execution_count": 60,
     "metadata": {},
     "output_type": "execute_result"
    }
   ],
   "source": [
    "pdx_df[\"Moon Phase\"].value_counts()"
   ]
  },
  {
   "cell_type": "code",
   "execution_count": 61,
   "metadata": {
    "scrolled": true
   },
   "outputs": [
    {
     "data": {
      "text/plain": [
       "Moon Phase\n",
       "First Quarter    113.181818\n",
       "Full Moon        104.615385\n",
       "New Moon         105.750000\n",
       "Third Quarter     97.833333\n",
       "Name: Crime Count, dtype: float64"
      ]
     },
     "execution_count": 61,
     "metadata": {},
     "output_type": "execute_result"
    }
   ],
   "source": [
    "new_df = pdx_df.groupby(['Moon Phase'])['Crime Count'].mean()\n",
    "new_df"
   ]
  },
  {
   "cell_type": "code",
   "execution_count": 62,
   "metadata": {
    "scrolled": true
   },
   "outputs": [
    {
     "data": {
      "image/png": "[encoded data removed]",
      "text/plain": [
       "<Figure size 432x288 with 1 Axes>"
      ]
     },
     "metadata": {
      "needs_background": "light"
     },
     "output_type": "display_data"
    }
   ],
   "source": [
    "crime_moon_graph = new_df.plot(kind=\"bar\", color=\"green\")\n",
    "\n",
    "plt.title('Crime Count per Moon Phase Portland')\n",
    "plt.title('Crime Count per Moon Phase')\n",
    "plt.xlabel('Moon Phase')\n",
    "plt.ylabel('Crime Count')\n",
    "plt.ylim(0,120)\n",
    "\n",
    "plt.savefig(\"Images/BarPdx.png\")"
   ]
  },
  {
   "cell_type": "code",
   "execution_count": 63,
   "metadata": {},
   "outputs": [
    {
     "data": {
      "text/html": [
       "<div>\n",
       "<style scoped>\n",
       "    .dataframe tbody tr th:only-of-type {\n",
       "        vertical-align: middle;\n",
       "    }\n",
       "\n",
       "    .dataframe tbody tr th {\n",
       "        vertical-align: top;\n",
       "    }\n",
       "\n",
       "    .dataframe thead th {\n",
       "        text-align: right;\n",
       "    }\n",
       "</style>\n",
       "<table border=\"1\" class=\"dataframe\">\n",
       "  <thead>\n",
       "    <tr style=\"text-align: right;\">\n",
       "      <th></th>\n",
       "      <th>Date</th>\n",
       "      <th>Offense Type</th>\n",
       "      <th>Violent Crime</th>\n",
       "      <th>NonViolent Crime</th>\n",
       "    </tr>\n",
       "  </thead>\n",
       "  <tbody>\n",
       "    <tr>\n",
       "      <th>0</th>\n",
       "      <td>1/1/2015</td>\n",
       "      <td>44</td>\n",
       "      <td>11.0</td>\n",
       "      <td>33.0</td>\n",
       "    </tr>\n",
       "    <tr>\n",
       "      <th>1</th>\n",
       "      <td>1/10/2015</td>\n",
       "      <td>1</td>\n",
       "      <td>0.0</td>\n",
       "      <td>1.0</td>\n",
       "    </tr>\n",
       "    <tr>\n",
       "      <th>2</th>\n",
       "      <td>1/11/2015</td>\n",
       "      <td>3</td>\n",
       "      <td>0.0</td>\n",
       "      <td>3.0</td>\n",
       "    </tr>\n",
       "    <tr>\n",
       "      <th>3</th>\n",
       "      <td>1/12/2015</td>\n",
       "      <td>2</td>\n",
       "      <td>1.0</td>\n",
       "      <td>1.0</td>\n",
       "    </tr>\n",
       "    <tr>\n",
       "      <th>4</th>\n",
       "      <td>1/13/2015</td>\n",
       "      <td>3</td>\n",
       "      <td>1.0</td>\n",
       "      <td>2.0</td>\n",
       "    </tr>\n",
       "  </tbody>\n",
       "</table>\n",
       "</div>"
      ],
      "text/plain": [
       "        Date  Offense Type  Violent Crime  NonViolent Crime\n",
       "0   1/1/2015            44           11.0              33.0\n",
       "1  1/10/2015             1            0.0               1.0\n",
       "2  1/11/2015             3            0.0               3.0\n",
       "3  1/12/2015             2            1.0               1.0\n",
       "4  1/13/2015             3            1.0               2.0"
      ]
     },
     "execution_count": 63,
     "metadata": {},
     "output_type": "execute_result"
    }
   ],
   "source": [
    "# Portland Violent vs Non-Violent Data\n",
    "csv_path = \"Portland/PortlandCrimeCate.csv\"\n",
    "pdx_violent_df = pd.read_csv(csv_path)\n",
    "violent_df = pdx_violent_df.rename(columns={\"Occur Date\": \"Date\"})\n",
    "violent_df.head()"
   ]
  },
  {
   "cell_type": "code",
   "execution_count": 64,
   "metadata": {
    "scrolled": true
   },
   "outputs": [
    {
     "data": {
      "text/html": [
       "<div>\n",
       "<style scoped>\n",
       "    .dataframe tbody tr th:only-of-type {\n",
       "        vertical-align: middle;\n",
       "    }\n",
       "\n",
       "    .dataframe tbody tr th {\n",
       "        vertical-align: top;\n",
       "    }\n",
       "\n",
       "    .dataframe thead th {\n",
       "        text-align: right;\n",
       "    }\n",
       "</style>\n",
       "<table border=\"1\" class=\"dataframe\">\n",
       "  <thead>\n",
       "    <tr style=\"text-align: right;\">\n",
       "      <th></th>\n",
       "      <th>Date</th>\n",
       "      <th>Offense Type</th>\n",
       "      <th>Violent Crime</th>\n",
       "      <th>NonViolent Crime</th>\n",
       "      <th>Crime Count</th>\n",
       "      <th>Moon Phase</th>\n",
       "      <th>Special</th>\n",
       "      <th>Special Type</th>\n",
       "    </tr>\n",
       "  </thead>\n",
       "  <tbody>\n",
       "    <tr>\n",
       "      <th>0</th>\n",
       "      <td>1/1/2015</td>\n",
       "      <td>44.0</td>\n",
       "      <td>11.0</td>\n",
       "      <td>33.0</td>\n",
       "      <td>44.0</td>\n",
       "      <td>NaN</td>\n",
       "      <td>NaN</td>\n",
       "      <td>NaN</td>\n",
       "    </tr>\n",
       "    <tr>\n",
       "      <th>1</th>\n",
       "      <td>1/10/2015</td>\n",
       "      <td>1.0</td>\n",
       "      <td>0.0</td>\n",
       "      <td>1.0</td>\n",
       "      <td>1.0</td>\n",
       "      <td>NaN</td>\n",
       "      <td>NaN</td>\n",
       "      <td>NaN</td>\n",
       "    </tr>\n",
       "    <tr>\n",
       "      <th>2</th>\n",
       "      <td>1/11/2015</td>\n",
       "      <td>3.0</td>\n",
       "      <td>0.0</td>\n",
       "      <td>3.0</td>\n",
       "      <td>3.0</td>\n",
       "      <td>NaN</td>\n",
       "      <td>NaN</td>\n",
       "      <td>NaN</td>\n",
       "    </tr>\n",
       "    <tr>\n",
       "      <th>3</th>\n",
       "      <td>1/12/2015</td>\n",
       "      <td>2.0</td>\n",
       "      <td>1.0</td>\n",
       "      <td>1.0</td>\n",
       "      <td>2.0</td>\n",
       "      <td>NaN</td>\n",
       "      <td>NaN</td>\n",
       "      <td>NaN</td>\n",
       "    </tr>\n",
       "    <tr>\n",
       "      <th>4</th>\n",
       "      <td>1/13/2015</td>\n",
       "      <td>3.0</td>\n",
       "      <td>1.0</td>\n",
       "      <td>2.0</td>\n",
       "      <td>3.0</td>\n",
       "      <td>Third Quarter</td>\n",
       "      <td>n</td>\n",
       "      <td>NaN</td>\n",
       "    </tr>\n",
       "    <tr>\n",
       "      <th>...</th>\n",
       "      <td>...</td>\n",
       "      <td>...</td>\n",
       "      <td>...</td>\n",
       "      <td>...</td>\n",
       "      <td>...</td>\n",
       "      <td>...</td>\n",
       "      <td>...</td>\n",
       "      <td>...</td>\n",
       "    </tr>\n",
       "    <tr>\n",
       "      <th>348</th>\n",
       "      <td>9/7/2015</td>\n",
       "      <td>148.0</td>\n",
       "      <td>41.0</td>\n",
       "      <td>107.0</td>\n",
       "      <td>148.0</td>\n",
       "      <td>NaN</td>\n",
       "      <td>NaN</td>\n",
       "      <td>NaN</td>\n",
       "    </tr>\n",
       "    <tr>\n",
       "      <th>349</th>\n",
       "      <td>9/8/2015</td>\n",
       "      <td>162.0</td>\n",
       "      <td>34.0</td>\n",
       "      <td>128.0</td>\n",
       "      <td>162.0</td>\n",
       "      <td>NaN</td>\n",
       "      <td>NaN</td>\n",
       "      <td>NaN</td>\n",
       "    </tr>\n",
       "    <tr>\n",
       "      <th>350</th>\n",
       "      <td>9/9/2015</td>\n",
       "      <td>147.0</td>\n",
       "      <td>35.0</td>\n",
       "      <td>112.0</td>\n",
       "      <td>147.0</td>\n",
       "      <td>NaN</td>\n",
       "      <td>NaN</td>\n",
       "      <td>NaN</td>\n",
       "    </tr>\n",
       "    <tr>\n",
       "      <th>351</th>\n",
       "      <td>1/26/2015</td>\n",
       "      <td>NaN</td>\n",
       "      <td>NaN</td>\n",
       "      <td>NaN</td>\n",
       "      <td>NaN</td>\n",
       "      <td>First Quarter</td>\n",
       "      <td>n</td>\n",
       "      <td>NaN</td>\n",
       "    </tr>\n",
       "    <tr>\n",
       "      <th>352</th>\n",
       "      <td>NaN</td>\n",
       "      <td>NaN</td>\n",
       "      <td>NaN</td>\n",
       "      <td>NaN</td>\n",
       "      <td>NaN</td>\n",
       "      <td>NaN</td>\n",
       "      <td>NaN</td>\n",
       "      <td>NaN</td>\n",
       "    </tr>\n",
       "  </tbody>\n",
       "</table>\n",
       "<p>353 rows × 8 columns</p>\n",
       "</div>"
      ],
      "text/plain": [
       "          Date  Offense Type  Violent Crime  NonViolent Crime  Crime Count  \\\n",
       "0     1/1/2015          44.0           11.0              33.0         44.0   \n",
       "1    1/10/2015           1.0            0.0               1.0          1.0   \n",
       "2    1/11/2015           3.0            0.0               3.0          3.0   \n",
       "3    1/12/2015           2.0            1.0               1.0          2.0   \n",
       "4    1/13/2015           3.0            1.0               2.0          3.0   \n",
       "..         ...           ...            ...               ...          ...   \n",
       "348   9/7/2015         148.0           41.0             107.0        148.0   \n",
       "349   9/8/2015         162.0           34.0             128.0        162.0   \n",
       "350   9/9/2015         147.0           35.0             112.0        147.0   \n",
       "351  1/26/2015           NaN            NaN               NaN          NaN   \n",
       "352        NaN           NaN            NaN               NaN          NaN   \n",
       "\n",
       "        Moon Phase Special Special Type  \n",
       "0              NaN     NaN          NaN  \n",
       "1              NaN     NaN          NaN  \n",
       "2              NaN     NaN          NaN  \n",
       "3              NaN     NaN          NaN  \n",
       "4    Third Quarter       n          NaN  \n",
       "..             ...     ...          ...  \n",
       "348            NaN     NaN          NaN  \n",
       "349            NaN     NaN          NaN  \n",
       "350            NaN     NaN          NaN  \n",
       "351  First Quarter       n          NaN  \n",
       "352            NaN     NaN          NaN  \n",
       "\n",
       "[353 rows x 8 columns]"
      ]
     },
     "execution_count": 64,
     "metadata": {},
     "output_type": "execute_result"
    }
   ],
   "source": [
    "# combine both of the csv files\n",
    "\n",
    "Portland_df = pd.merge(violent_df,pdx_df, how=\"outer\", on = \"Date\")\n",
    "\n",
    "Portland_df"
   ]
  },
  {
   "cell_type": "code",
   "execution_count": 65,
   "metadata": {},
   "outputs": [],
   "source": [
    "newPortland = Portland_df.drop(['Offense Type','Special','Special Type'], axis=1)\n",
    "dropPortland = newPortland.dropna()"
   ]
  },
  {
   "cell_type": "code",
   "execution_count": 66,
   "metadata": {},
   "outputs": [
    {
     "data": {
      "text/html": [
       "<div>\n",
       "<style scoped>\n",
       "    .dataframe tbody tr th:only-of-type {\n",
       "        vertical-align: middle;\n",
       "    }\n",
       "\n",
       "    .dataframe tbody tr th {\n",
       "        vertical-align: top;\n",
       "    }\n",
       "\n",
       "    .dataframe thead th {\n",
       "        text-align: right;\n",
       "    }\n",
       "</style>\n",
       "<table border=\"1\" class=\"dataframe\">\n",
       "  <thead>\n",
       "    <tr style=\"text-align: right;\">\n",
       "      <th></th>\n",
       "      <th>Violent Crime</th>\n",
       "      <th>NonViolent Crime</th>\n",
       "    </tr>\n",
       "    <tr>\n",
       "      <th>Moon Phase</th>\n",
       "      <th></th>\n",
       "      <th></th>\n",
       "    </tr>\n",
       "  </thead>\n",
       "  <tbody>\n",
       "    <tr>\n",
       "      <th>First Quarter</th>\n",
       "      <td>26.454545</td>\n",
       "      <td>86.727273</td>\n",
       "    </tr>\n",
       "    <tr>\n",
       "      <th>Full Moon</th>\n",
       "      <td>26.384615</td>\n",
       "      <td>78.230769</td>\n",
       "    </tr>\n",
       "    <tr>\n",
       "      <th>New Moon</th>\n",
       "      <td>23.583333</td>\n",
       "      <td>82.166667</td>\n",
       "    </tr>\n",
       "    <tr>\n",
       "      <th>Third Quarter</th>\n",
       "      <td>24.666667</td>\n",
       "      <td>73.166667</td>\n",
       "    </tr>\n",
       "  </tbody>\n",
       "</table>\n",
       "</div>"
      ],
      "text/plain": [
       "               Violent Crime   NonViolent Crime\n",
       "Moon Phase                                     \n",
       "First Quarter       26.454545         86.727273\n",
       "Full Moon           26.384615         78.230769\n",
       "New Moon            23.583333         82.166667\n",
       "Third Quarter       24.666667         73.166667"
      ]
     },
     "execution_count": 66,
     "metadata": {},
     "output_type": "execute_result"
    }
   ],
   "source": [
    "violent = Portland_df.groupby(['Moon Phase'])['Violent Crime'].mean()\n",
    "NonViolent = Portland_df.groupby(['Moon Phase'])['NonViolent Crime'].mean()\n",
    "\n",
    "\n",
    "combined_df = pd.DataFrame({\"Violent Crime \" : violent,\n",
    "                           \"NonViolent Crime\" : NonViolent})\n",
    "combined_df"
   ]
  },
  {
   "cell_type": "code",
   "execution_count": 67,
   "metadata": {
    "scrolled": true
   },
   "outputs": [
    {
     "data": {
      "image/png": "[encoded data removed]",
      "text/plain": [
       "<Figure size 432x288 with 1 Axes>"
      ]
     },
     "metadata": {
      "needs_background": "light"
     },
     "output_type": "display_data"
    }
   ],
   "source": [
    "violent_moon_graph = combined_df.plot(kind=\"bar\")\n",
    "\n",
    "plt.title('Average Violent vs NonViolent Crimes per Moon Phase Portland')\n",
    "plt.xlabel('Moon Phase')\n",
    "plt.ylabel('Crime Count')\n",
    "plt.legend(loc = \"best\")\n",
    "plt.ylim(0,110)\n",
    "plt.savefig(\"Images/ViolentVsNonViolentBarPdx.png\")"
   ]
  },
  {
   "cell_type": "code",
   "execution_count": 68,
   "metadata": {},
   "outputs": [
    {
     "data": {
      "text/plain": [
       "(0, 200)"
      ]
     },
     "execution_count": 68,
     "metadata": {},
     "output_type": "execute_result"
    },
    {
     "data": {
      "image/png": "[encoded data removed]",
      "text/plain": [
       "<Figure size 1440x720 with 1 Axes>"
      ]
     },
     "metadata": {
      "needs_background": "light"
     },
     "output_type": "display_data"
    }
   ],
   "source": [
    "#Box plot of total crime by moon phase\n",
    "dropPortland.boxplot(\"Crime Count\", by=\"Moon Phase\", figsize=(20, 10))\n",
    "plt.title('Total Crime Count vs Moon Phase')\n",
    "plt.ylabel('Crime Count')\n",
    "plt.ylim(0,200)"
   ]
  },
  {
   "cell_type": "code",
   "execution_count": 69,
   "metadata": {},
   "outputs": [
    {
     "data": {
      "text/plain": [
       "F_onewayResult(statistic=0.08507191218159166, pvalue=0.9678409668047423)"
      ]
     },
     "execution_count": 69,
     "metadata": {},
     "output_type": "execute_result"
    }
   ],
   "source": [
    "#total crime anova test\n",
    "group1 = dropPortland[dropPortland['Moon Phase'] == \"First Quarter\"][\"Crime Count\"]\n",
    "group2 = dropPortland[dropPortland['Moon Phase'] == \"Full Moon\"][\"Crime Count\"]\n",
    "group3 = dropPortland[dropPortland['Moon Phase'] == \"New Moon\"][\"Crime Count\"]\n",
    "group4 = dropPortland[dropPortland['Moon Phase'] == \"Third Quarter\"][\"Crime Count\"]\n",
    "\n",
    "stats.f_oneway(group1, group2, group3, group4)"
   ]
  },
  {
   "cell_type": "code",
   "execution_count": 70,
   "metadata": {},
   "outputs": [
    {
     "data": {
      "text/plain": [
       "(0, 60)"
      ]
     },
     "execution_count": 70,
     "metadata": {},
     "output_type": "execute_result"
    },
    {
     "data": {
      "image/png": "[encoded data removed]",
      "text/plain": [
       "<Figure size 1440x720 with 1 Axes>"
      ]
     },
     "metadata": {
      "needs_background": "light"
     },
     "output_type": "display_data"
    }
   ],
   "source": [
    "#Box plot of total crime by moon phase\n",
    "dropPortland.boxplot(\"Violent Crime\", by=\"Moon Phase\", figsize=(20, 10))\n",
    "plt.title('Violent Crime Count vs Moon Phase')\n",
    "plt.ylabel('Crime Count')\n",
    "plt.ylim(0,60)"
   ]
  },
  {
   "cell_type": "code",
   "execution_count": 71,
   "metadata": {},
   "outputs": [
    {
     "data": {
      "text/plain": [
       "F_onewayResult(statistic=0.07130353413078996, pvalue=0.9750002905517406)"
      ]
     },
     "execution_count": 71,
     "metadata": {},
     "output_type": "execute_result"
    }
   ],
   "source": [
    "#total crime anova test\n",
    "group1 = dropPortland[dropPortland['Moon Phase'] == \"First Quarter\"][\"Violent Crime\"]\n",
    "group2 = dropPortland[dropPortland['Moon Phase'] == \"Full Moon\"][\"Violent Crime\"]\n",
    "group3 = dropPortland[dropPortland['Moon Phase'] == \"New Moon\"][\"Violent Crime\"]\n",
    "group4 = dropPortland[dropPortland['Moon Phase'] == \"Third Quarter\"][\"Violent Crime\"]\n",
    "\n",
    "stats.f_oneway(group1, group2, group3, group4)"
   ]
  },
  {
   "cell_type": "code",
   "execution_count": 72,
   "metadata": {},
   "outputs": [
    {
     "data": {
      "text/plain": [
       "(0, 150)"
      ]
     },
     "execution_count": 72,
     "metadata": {},
     "output_type": "execute_result"
    },
    {
     "data": {
      "image/png": "[encoded data removed]",
      "text/plain": [
       "<Figure size 1440x720 with 1 Axes>"
      ]
     },
     "metadata": {
      "needs_background": "light"
     },
     "output_type": "display_data"
    }
   ],
   "source": [
    "#Box plot of total crime by moon phase\n",
    "dropPortland.boxplot(\"NonViolent Crime\", by=\"Moon Phase\", figsize=(20, 10))\n",
    "plt.title('Non-Violent Crime Count vs Moon Phase')\n",
    "plt.ylabel('Crime Count')\n",
    "plt.ylim(0,150)"
   ]
  },
  {
   "cell_type": "code",
   "execution_count": 73,
   "metadata": {},
   "outputs": [
    {
     "data": {
      "text/plain": [
       "F_onewayResult(statistic=0.12274749682665796, pvalue=0.9461990925273617)"
      ]
     },
     "execution_count": 73,
     "metadata": {},
     "output_type": "execute_result"
    }
   ],
   "source": [
    "#total crime anova test\n",
    "group1 = dropPortland[dropPortland['Moon Phase'] == \"First Quarter\"][\"NonViolent Crime\"]\n",
    "group2 = dropPortland[dropPortland['Moon Phase'] == \"Full Moon\"][\"NonViolent Crime\"]\n",
    "group3 = dropPortland[dropPortland['Moon Phase'] == \"New Moon\"][\"NonViolent Crime\"]\n",
    "group4 = dropPortland[dropPortland['Moon Phase'] == \"Third Quarter\"][\"NonViolent Crime\"]\n",
    "\n",
    "stats.f_oneway(group1, group2, group3, group4)"
   ]
  },
  {
   "cell_type": "markdown",
   "metadata": {},
   "source": [
    "# Chicago Data"
   ]
  },
  {
   "cell_type": "code",
   "execution_count": 74,
   "metadata": {},
   "outputs": [
    {
     "data": {
      "text/html": [
       "<div>\n",
       "<style scoped>\n",
       "    .dataframe tbody tr th:only-of-type {\n",
       "        vertical-align: middle;\n",
       "    }\n",
       "\n",
       "    .dataframe tbody tr th {\n",
       "        vertical-align: top;\n",
       "    }\n",
       "\n",
       "    .dataframe thead th {\n",
       "        text-align: right;\n",
       "    }\n",
       "</style>\n",
       "<table border=\"1\" class=\"dataframe\">\n",
       "  <thead>\n",
       "    <tr style=\"text-align: right;\">\n",
       "      <th></th>\n",
       "      <th>Date</th>\n",
       "      <th>Crime Count</th>\n",
       "      <th>Moon Phase</th>\n",
       "      <th>Special</th>\n",
       "      <th>Special Type</th>\n",
       "    </tr>\n",
       "  </thead>\n",
       "  <tbody>\n",
       "    <tr>\n",
       "      <th>0</th>\n",
       "      <td>1/1/15</td>\n",
       "      <td>1201.0</td>\n",
       "      <td>NaN</td>\n",
       "      <td>NaN</td>\n",
       "      <td>NaN</td>\n",
       "    </tr>\n",
       "    <tr>\n",
       "      <th>1</th>\n",
       "      <td>1/10/15</td>\n",
       "      <td>646.0</td>\n",
       "      <td>NaN</td>\n",
       "      <td>NaN</td>\n",
       "      <td>NaN</td>\n",
       "    </tr>\n",
       "    <tr>\n",
       "      <th>2</th>\n",
       "      <td>1/11/15</td>\n",
       "      <td>648.0</td>\n",
       "      <td>NaN</td>\n",
       "      <td>NaN</td>\n",
       "      <td>NaN</td>\n",
       "    </tr>\n",
       "    <tr>\n",
       "      <th>3</th>\n",
       "      <td>1/12/15</td>\n",
       "      <td>607.0</td>\n",
       "      <td>NaN</td>\n",
       "      <td>NaN</td>\n",
       "      <td>NaN</td>\n",
       "    </tr>\n",
       "    <tr>\n",
       "      <th>4</th>\n",
       "      <td>1/13/15</td>\n",
       "      <td>611.0</td>\n",
       "      <td>Third Quarter</td>\n",
       "      <td>n</td>\n",
       "      <td>NaN</td>\n",
       "    </tr>\n",
       "  </tbody>\n",
       "</table>\n",
       "</div>"
      ],
      "text/plain": [
       "      Date  Crime Count     Moon Phase Special Special Type\n",
       "0   1/1/15       1201.0            NaN     NaN          NaN\n",
       "1  1/10/15        646.0            NaN     NaN          NaN\n",
       "2  1/11/15        648.0            NaN     NaN          NaN\n",
       "3  1/12/15        607.0            NaN     NaN          NaN\n",
       "4  1/13/15        611.0  Third Quarter       n          NaN"
      ]
     },
     "execution_count": 74,
     "metadata": {},
     "output_type": "execute_result"
    }
   ],
   "source": [
    "#Chicago Data\n",
    "\n",
    "csv_path = \"Resources/ChiMoon.csv\"\n",
    "chi_df = pd.read_csv(csv_path)\n",
    "chi_df.head()"
   ]
  },
  {
   "cell_type": "code",
   "execution_count": 75,
   "metadata": {},
   "outputs": [
    {
     "data": {
      "text/plain": [
       "Full Moon        13\n",
       "New Moon         12\n",
       "First Quarter    12\n",
       "Third Quarter    12\n",
       "Name: Moon Phase, dtype: int64"
      ]
     },
     "execution_count": 75,
     "metadata": {},
     "output_type": "execute_result"
    }
   ],
   "source": [
    "chi_df[\"Moon Phase\"].value_counts()"
   ]
  },
  {
   "cell_type": "code",
   "execution_count": 76,
   "metadata": {},
   "outputs": [
    {
     "data": {
      "text/plain": [
       "Moon Phase\n",
       "First Quarter    716.000000\n",
       "Full Moon        679.153846\n",
       "New Moon         750.750000\n",
       "Third Quarter    719.333333\n",
       "Name: Crime Count, dtype: float64"
      ]
     },
     "execution_count": 76,
     "metadata": {},
     "output_type": "execute_result"
    }
   ],
   "source": [
    "new_df = chi_df.groupby(['Moon Phase'])['Crime Count'].mean()\n",
    "new_df"
   ]
  },
  {
   "cell_type": "code",
   "execution_count": 77,
   "metadata": {},
   "outputs": [
    {
     "data": {
      "image/png": "[encoded data removed]",
      "text/plain": [
       "<Figure size 432x288 with 1 Axes>"
      ]
     },
     "metadata": {
      "needs_background": "light"
     },
     "output_type": "display_data"
    }
   ],
   "source": [
    "crime_moon_graph = new_df.plot(kind=\"bar\", color=\"green\")\n",
    "\n",
    "plt.title('Crime Count per Moon Phase Chicago')\n",
    "plt.title('Crime Count per Moon Phase')\n",
    "plt.xlabel('Moon Phase')\n",
    "plt.ylabel('Crime Count')\n",
    "plt.ylim(0,800)\n",
    "\n",
    "plt.savefig(\"Images/BarChi.png\")"
   ]
  },
  {
   "cell_type": "code",
   "execution_count": 78,
   "metadata": {},
   "outputs": [
    {
     "data": {
      "text/html": [
       "<div>\n",
       "<style scoped>\n",
       "    .dataframe tbody tr th:only-of-type {\n",
       "        vertical-align: middle;\n",
       "    }\n",
       "\n",
       "    .dataframe tbody tr th {\n",
       "        vertical-align: top;\n",
       "    }\n",
       "\n",
       "    .dataframe thead th {\n",
       "        text-align: right;\n",
       "    }\n",
       "</style>\n",
       "<table border=\"1\" class=\"dataframe\">\n",
       "  <thead>\n",
       "    <tr style=\"text-align: right;\">\n",
       "      <th></th>\n",
       "      <th>Date</th>\n",
       "      <th>Violent Crime</th>\n",
       "      <th>NonViolent Crime</th>\n",
       "      <th>Unnamed: 0</th>\n",
       "      <th>Moon Phase</th>\n",
       "      <th>Total Crime</th>\n",
       "    </tr>\n",
       "  </thead>\n",
       "  <tbody>\n",
       "    <tr>\n",
       "      <th>0</th>\n",
       "      <td>1/1/15</td>\n",
       "      <td>634</td>\n",
       "      <td>567</td>\n",
       "      <td>4</td>\n",
       "      <td>85.044000</td>\n",
       "      <td>1201</td>\n",
       "    </tr>\n",
       "    <tr>\n",
       "      <th>1</th>\n",
       "      <td>1/2/15</td>\n",
       "      <td>267</td>\n",
       "      <td>406</td>\n",
       "      <td>16</td>\n",
       "      <td>92.345833</td>\n",
       "      <td>673</td>\n",
       "    </tr>\n",
       "    <tr>\n",
       "      <th>2</th>\n",
       "      <td>1/3/15</td>\n",
       "      <td>279</td>\n",
       "      <td>369</td>\n",
       "      <td>28</td>\n",
       "      <td>96.773750</td>\n",
       "      <td>648</td>\n",
       "    </tr>\n",
       "    <tr>\n",
       "      <th>3</th>\n",
       "      <td>1/4/15</td>\n",
       "      <td>221</td>\n",
       "      <td>292</td>\n",
       "      <td>40</td>\n",
       "      <td>99.210417</td>\n",
       "      <td>513</td>\n",
       "    </tr>\n",
       "    <tr>\n",
       "      <th>4</th>\n",
       "      <td>1/5/15</td>\n",
       "      <td>194</td>\n",
       "      <td>327</td>\n",
       "      <td>52</td>\n",
       "      <td>99.657500</td>\n",
       "      <td>521</td>\n",
       "    </tr>\n",
       "  </tbody>\n",
       "</table>\n",
       "</div>"
      ],
      "text/plain": [
       "     Date  Violent Crime  NonViolent Crime  Unnamed: 0  Moon Phase  \\\n",
       "0  1/1/15            634               567           4   85.044000   \n",
       "1  1/2/15            267               406          16   92.345833   \n",
       "2  1/3/15            279               369          28   96.773750   \n",
       "3  1/4/15            221               292          40   99.210417   \n",
       "4  1/5/15            194               327          52   99.657500   \n",
       "\n",
       "   Total Crime  \n",
       "0         1201  \n",
       "1          673  \n",
       "2          648  \n",
       "3          513  \n",
       "4          521  "
      ]
     },
     "execution_count": 78,
     "metadata": {},
     "output_type": "execute_result"
    }
   ],
   "source": [
    "# Portland Violent vs Non-Violent Data\n",
    "csv_path = \"Chicago/Chi_moon_counts.csv\"\n",
    "chi_violent_df = pd.read_csv(csv_path)\n",
    "chi_violent_df['Date'] = pd.to_datetime(chi_violent_df.Date)\n",
    "chi_violent_df['Date'] = chi_violent_df['Date'].dt.strftime('%m/%d/%Y')\n",
    "chi_violent_df.Date = chi_violent_df.Date.str.replace('2015', '15')\n",
    "chi_violent_df.Date = chi_violent_df.Date.str.replace('01', '1')\n",
    "chi_violent_df.Date = chi_violent_df.Date.str.replace('02', '2')\n",
    "chi_violent_df.Date = chi_violent_df.Date.str.replace('03', '3')\n",
    "chi_violent_df.Date = chi_violent_df.Date.str.replace('04', '4')\n",
    "chi_violent_df.Date = chi_violent_df.Date.str.replace('05', '5')\n",
    "chi_violent_df.Date = chi_violent_df.Date.str.replace('06', '6')\n",
    "chi_violent_df.Date = chi_violent_df.Date.str.replace('07', '7')\n",
    "chi_violent_df.Date = chi_violent_df.Date.str.replace('08', '8')\n",
    "chi_violent_df.Date = chi_violent_df.Date.str.replace('09', '9')\n",
    "\n",
    "chi_violent_df.head()"
   ]
  },
  {
   "cell_type": "code",
   "execution_count": 79,
   "metadata": {
    "scrolled": true
   },
   "outputs": [
    {
     "data": {
      "text/html": [
       "<div>\n",
       "<style scoped>\n",
       "    .dataframe tbody tr th:only-of-type {\n",
       "        vertical-align: middle;\n",
       "    }\n",
       "\n",
       "    .dataframe tbody tr th {\n",
       "        vertical-align: top;\n",
       "    }\n",
       "\n",
       "    .dataframe thead th {\n",
       "        text-align: right;\n",
       "    }\n",
       "</style>\n",
       "<table border=\"1\" class=\"dataframe\">\n",
       "  <thead>\n",
       "    <tr style=\"text-align: right;\">\n",
       "      <th></th>\n",
       "      <th>Date</th>\n",
       "      <th>Violent Crime</th>\n",
       "      <th>NonViolent Crime</th>\n",
       "      <th>Unnamed: 0</th>\n",
       "      <th>Moon Phase_x</th>\n",
       "      <th>Total Crime</th>\n",
       "      <th>Crime Count</th>\n",
       "      <th>Moon Phase_y</th>\n",
       "      <th>Special</th>\n",
       "      <th>Special Type</th>\n",
       "    </tr>\n",
       "  </thead>\n",
       "  <tbody>\n",
       "    <tr>\n",
       "      <th>0</th>\n",
       "      <td>1/1/15</td>\n",
       "      <td>634.0</td>\n",
       "      <td>567.0</td>\n",
       "      <td>4.0</td>\n",
       "      <td>85.044000</td>\n",
       "      <td>1201.0</td>\n",
       "      <td>1201.0</td>\n",
       "      <td>NaN</td>\n",
       "      <td>NaN</td>\n",
       "      <td>NaN</td>\n",
       "    </tr>\n",
       "    <tr>\n",
       "      <th>1</th>\n",
       "      <td>1/2/15</td>\n",
       "      <td>267.0</td>\n",
       "      <td>406.0</td>\n",
       "      <td>16.0</td>\n",
       "      <td>92.345833</td>\n",
       "      <td>673.0</td>\n",
       "      <td>673.0</td>\n",
       "      <td>NaN</td>\n",
       "      <td>NaN</td>\n",
       "      <td>NaN</td>\n",
       "    </tr>\n",
       "    <tr>\n",
       "      <th>2</th>\n",
       "      <td>1/3/15</td>\n",
       "      <td>279.0</td>\n",
       "      <td>369.0</td>\n",
       "      <td>28.0</td>\n",
       "      <td>96.773750</td>\n",
       "      <td>648.0</td>\n",
       "      <td>648.0</td>\n",
       "      <td>NaN</td>\n",
       "      <td>NaN</td>\n",
       "      <td>NaN</td>\n",
       "    </tr>\n",
       "    <tr>\n",
       "      <th>3</th>\n",
       "      <td>1/4/15</td>\n",
       "      <td>221.0</td>\n",
       "      <td>292.0</td>\n",
       "      <td>40.0</td>\n",
       "      <td>99.210417</td>\n",
       "      <td>513.0</td>\n",
       "      <td>513.0</td>\n",
       "      <td>Full Moon</td>\n",
       "      <td>n</td>\n",
       "      <td>NaN</td>\n",
       "    </tr>\n",
       "    <tr>\n",
       "      <th>4</th>\n",
       "      <td>1/5/15</td>\n",
       "      <td>194.0</td>\n",
       "      <td>327.0</td>\n",
       "      <td>52.0</td>\n",
       "      <td>99.657500</td>\n",
       "      <td>521.0</td>\n",
       "      <td>521.0</td>\n",
       "      <td>NaN</td>\n",
       "      <td>NaN</td>\n",
       "      <td>NaN</td>\n",
       "    </tr>\n",
       "    <tr>\n",
       "      <th>...</th>\n",
       "      <td>...</td>\n",
       "      <td>...</td>\n",
       "      <td>...</td>\n",
       "      <td>...</td>\n",
       "      <td>...</td>\n",
       "      <td>...</td>\n",
       "      <td>...</td>\n",
       "      <td>...</td>\n",
       "      <td>...</td>\n",
       "      <td>...</td>\n",
       "    </tr>\n",
       "    <tr>\n",
       "      <th>361</th>\n",
       "      <td>12/28/15</td>\n",
       "      <td>216.0</td>\n",
       "      <td>300.0</td>\n",
       "      <td>326.0</td>\n",
       "      <td>89.784583</td>\n",
       "      <td>516.0</td>\n",
       "      <td>516.0</td>\n",
       "      <td>NaN</td>\n",
       "      <td>NaN</td>\n",
       "      <td>NaN</td>\n",
       "    </tr>\n",
       "    <tr>\n",
       "      <th>362</th>\n",
       "      <td>12/29/15</td>\n",
       "      <td>246.0</td>\n",
       "      <td>378.0</td>\n",
       "      <td>338.0</td>\n",
       "      <td>82.980833</td>\n",
       "      <td>624.0</td>\n",
       "      <td>624.0</td>\n",
       "      <td>NaN</td>\n",
       "      <td>NaN</td>\n",
       "      <td>NaN</td>\n",
       "    </tr>\n",
       "    <tr>\n",
       "      <th>363</th>\n",
       "      <td>12/30/15</td>\n",
       "      <td>275.0</td>\n",
       "      <td>328.0</td>\n",
       "      <td>349.0</td>\n",
       "      <td>75.053333</td>\n",
       "      <td>603.0</td>\n",
       "      <td>603.0</td>\n",
       "      <td>NaN</td>\n",
       "      <td>NaN</td>\n",
       "      <td>NaN</td>\n",
       "    </tr>\n",
       "    <tr>\n",
       "      <th>364</th>\n",
       "      <td>12/31/15</td>\n",
       "      <td>269.0</td>\n",
       "      <td>341.0</td>\n",
       "      <td>359.0</td>\n",
       "      <td>66.342917</td>\n",
       "      <td>610.0</td>\n",
       "      <td>610.0</td>\n",
       "      <td>NaN</td>\n",
       "      <td>NaN</td>\n",
       "      <td>NaN</td>\n",
       "    </tr>\n",
       "    <tr>\n",
       "      <th>365</th>\n",
       "      <td>NaN</td>\n",
       "      <td>NaN</td>\n",
       "      <td>NaN</td>\n",
       "      <td>NaN</td>\n",
       "      <td>NaN</td>\n",
       "      <td>NaN</td>\n",
       "      <td>NaN</td>\n",
       "      <td>NaN</td>\n",
       "      <td>NaN</td>\n",
       "      <td>NaN</td>\n",
       "    </tr>\n",
       "  </tbody>\n",
       "</table>\n",
       "<p>366 rows × 10 columns</p>\n",
       "</div>"
      ],
      "text/plain": [
       "         Date  Violent Crime  NonViolent Crime  Unnamed: 0  Moon Phase_x  \\\n",
       "0      1/1/15          634.0             567.0         4.0     85.044000   \n",
       "1      1/2/15          267.0             406.0        16.0     92.345833   \n",
       "2      1/3/15          279.0             369.0        28.0     96.773750   \n",
       "3      1/4/15          221.0             292.0        40.0     99.210417   \n",
       "4      1/5/15          194.0             327.0        52.0     99.657500   \n",
       "..        ...            ...               ...         ...           ...   \n",
       "361  12/28/15          216.0             300.0       326.0     89.784583   \n",
       "362  12/29/15          246.0             378.0       338.0     82.980833   \n",
       "363  12/30/15          275.0             328.0       349.0     75.053333   \n",
       "364  12/31/15          269.0             341.0       359.0     66.342917   \n",
       "365       NaN            NaN               NaN         NaN           NaN   \n",
       "\n",
       "     Total Crime  Crime Count Moon Phase_y Special Special Type  \n",
       "0         1201.0       1201.0          NaN     NaN          NaN  \n",
       "1          673.0        673.0          NaN     NaN          NaN  \n",
       "2          648.0        648.0          NaN     NaN          NaN  \n",
       "3          513.0        513.0    Full Moon       n          NaN  \n",
       "4          521.0        521.0          NaN     NaN          NaN  \n",
       "..           ...          ...          ...     ...          ...  \n",
       "361        516.0        516.0          NaN     NaN          NaN  \n",
       "362        624.0        624.0          NaN     NaN          NaN  \n",
       "363        603.0        603.0          NaN     NaN          NaN  \n",
       "364        610.0        610.0          NaN     NaN          NaN  \n",
       "365          NaN          NaN          NaN     NaN          NaN  \n",
       "\n",
       "[366 rows x 10 columns]"
      ]
     },
     "execution_count": 79,
     "metadata": {},
     "output_type": "execute_result"
    }
   ],
   "source": [
    "# combine both of the csv files\n",
    "Chicago_df = pd.merge(chi_violent_df,chi_df, how=\"outer\", on = \"Date\")\n",
    "\n",
    "Chicago_df.to_csv(\"Chicago_moonphase.csv\")\n",
    "Chicago_df"
   ]
  },
  {
   "cell_type": "code",
   "execution_count": 80,
   "metadata": {},
   "outputs": [
    {
     "data": {
      "text/html": [
       "<div>\n",
       "<style scoped>\n",
       "    .dataframe tbody tr th:only-of-type {\n",
       "        vertical-align: middle;\n",
       "    }\n",
       "\n",
       "    .dataframe tbody tr th {\n",
       "        vertical-align: top;\n",
       "    }\n",
       "\n",
       "    .dataframe thead th {\n",
       "        text-align: right;\n",
       "    }\n",
       "</style>\n",
       "<table border=\"1\" class=\"dataframe\">\n",
       "  <thead>\n",
       "    <tr style=\"text-align: right;\">\n",
       "      <th></th>\n",
       "      <th>Violent Crime</th>\n",
       "      <th>NonViolent Crime</th>\n",
       "    </tr>\n",
       "    <tr>\n",
       "      <th>Moon Phase_y</th>\n",
       "      <th></th>\n",
       "      <th></th>\n",
       "    </tr>\n",
       "  </thead>\n",
       "  <tbody>\n",
       "    <tr>\n",
       "      <th>First Quarter</th>\n",
       "      <td>308.666667</td>\n",
       "      <td>407.333333</td>\n",
       "    </tr>\n",
       "    <tr>\n",
       "      <th>Full Moon</th>\n",
       "      <td>310.153846</td>\n",
       "      <td>369.000000</td>\n",
       "    </tr>\n",
       "    <tr>\n",
       "      <th>New Moon</th>\n",
       "      <td>324.166667</td>\n",
       "      <td>426.583333</td>\n",
       "    </tr>\n",
       "    <tr>\n",
       "      <th>Third Quarter</th>\n",
       "      <td>303.416667</td>\n",
       "      <td>415.916667</td>\n",
       "    </tr>\n",
       "  </tbody>\n",
       "</table>\n",
       "</div>"
      ],
      "text/plain": [
       "               Violent Crime   NonViolent Crime\n",
       "Moon Phase_y                                   \n",
       "First Quarter      308.666667        407.333333\n",
       "Full Moon          310.153846        369.000000\n",
       "New Moon           324.166667        426.583333\n",
       "Third Quarter      303.416667        415.916667"
      ]
     },
     "execution_count": 80,
     "metadata": {},
     "output_type": "execute_result"
    }
   ],
   "source": [
    "violent = Chicago_df.groupby(['Moon Phase_y'])['Violent Crime'].mean()\n",
    "NonViolent = Chicago_df.groupby(['Moon Phase_y'])['NonViolent Crime'].mean()\n",
    "\n",
    "\n",
    "combined_df = pd.DataFrame({\"Violent Crime \" : violent,\n",
    "                           \"NonViolent Crime\" : NonViolent})\n",
    "combined_df"
   ]
  },
  {
   "cell_type": "code",
   "execution_count": 81,
   "metadata": {
    "scrolled": true
   },
   "outputs": [
    {
     "data": {
      "image/png": "[encoded data removed]",
      "text/plain": [
       "<Figure size 432x288 with 1 Axes>"
      ]
     },
     "metadata": {
      "needs_background": "light"
     },
     "output_type": "display_data"
    }
   ],
   "source": [
    "violent_moon_graph = combined_df.plot(kind=\"bar\")\n",
    "\n",
    "plt.title('Average Violent vs NonViolent Crimes per Moon Phase Chicago')\n",
    "plt.xlabel('Moon Phase')\n",
    "plt.ylabel('Crime Count')\n",
    "plt.legend(loc = \"best\")\n",
    "plt.ylim(0,550)\n",
    "\n",
    "plt.savefig(\"Images/ViolentVsNonViolentBarChi.png\")"
   ]
  },
  {
   "cell_type": "code",
   "execution_count": 82,
   "metadata": {},
   "outputs": [
    {
     "data": {
      "text/plain": [
       "(0, 1000)"
      ]
     },
     "execution_count": 82,
     "metadata": {},
     "output_type": "execute_result"
    },
    {
     "data": {
      "image/png": "[encoded data removed]",
      "text/plain": [
       "<Figure size 1440x720 with 1 Axes>"
      ]
     },
     "metadata": {
      "needs_background": "light"
     },
     "output_type": "display_data"
    }
   ],
   "source": [
    "#Box plot of total crime by moon phase\n",
    "Chicago_df.boxplot(\"Crime Count\", by=\"Moon Phase_y\", figsize=(20, 10))\n",
    "plt.title('Total Crime Count vs Moon Phase')\n",
    "plt.ylabel('Crime Count')\n",
    "plt.ylim(0,1000)"
   ]
  },
  {
   "cell_type": "code",
   "execution_count": 83,
   "metadata": {},
   "outputs": [
    {
     "data": {
      "text/plain": [
       "F_onewayResult(statistic=1.2692223121953574, pvalue=0.29632734855816767)"
      ]
     },
     "execution_count": 83,
     "metadata": {},
     "output_type": "execute_result"
    }
   ],
   "source": [
    "#total crime anova test\n",
    "group1 = Chicago_df[Chicago_df['Moon Phase_y'] == \"First Quarter\"][\"Crime Count\"]\n",
    "group2 = Chicago_df[Chicago_df['Moon Phase_y'] == \"Full Moon\"][\"Crime Count\"]\n",
    "group3 = Chicago_df[Chicago_df['Moon Phase_y'] == \"New Moon\"][\"Crime Count\"]\n",
    "group4 = Chicago_df[Chicago_df['Moon Phase_y'] == \"Third Quarter\"][\"Crime Count\"]\n",
    "\n",
    "stats.f_oneway(group1, group2, group3, group4)"
   ]
  },
  {
   "cell_type": "code",
   "execution_count": 84,
   "metadata": {},
   "outputs": [
    {
     "data": {
      "text/plain": [
       "(0, 500)"
      ]
     },
     "execution_count": 84,
     "metadata": {},
     "output_type": "execute_result"
    },
    {
     "data": {
      "image/png": "[encoded data removed]",
      "text/plain": [
       "<Figure size 1440x720 with 1 Axes>"
      ]
     },
     "metadata": {
      "needs_background": "light"
     },
     "output_type": "display_data"
    }
   ],
   "source": [
    "#Box plot of total crime by moon phase\n",
    "Chicago_df.boxplot(\"Violent Crime\", by=\"Moon Phase_y\", figsize=(20, 10))\n",
    "plt.title('Violent Crime Count vs Moon Phase')\n",
    "plt.ylabel('Crime Count')\n",
    "plt.ylim(0,500)"
   ]
  },
  {
   "cell_type": "code",
   "execution_count": 85,
   "metadata": {},
   "outputs": [
    {
     "data": {
      "text/plain": [
       "F_onewayResult(statistic=0.2987706031709153, pvalue=0.8260897448348143)"
      ]
     },
     "execution_count": 85,
     "metadata": {},
     "output_type": "execute_result"
    }
   ],
   "source": [
    "#total crime anova test\n",
    "group1 = Chicago_df[Chicago_df['Moon Phase_y'] == \"First Quarter\"][\"Violent Crime\"]\n",
    "group2 = Chicago_df[Chicago_df['Moon Phase_y'] == \"Full Moon\"][\"Violent Crime\"]\n",
    "group3 = Chicago_df[Chicago_df['Moon Phase_y'] == \"New Moon\"][\"Violent Crime\"]\n",
    "group4 = Chicago_df[Chicago_df['Moon Phase_y'] == \"Third Quarter\"][\"Violent Crime\"]\n",
    "\n",
    "stats.f_oneway(group1, group2, group3, group4)"
   ]
  },
  {
   "cell_type": "code",
   "execution_count": 86,
   "metadata": {},
   "outputs": [
    {
     "data": {
      "text/plain": [
       "(0, 500)"
      ]
     },
     "execution_count": 86,
     "metadata": {},
     "output_type": "execute_result"
    },
    {
     "data": {
      "image/png": "[encoded data removed]",
      "text/plain": [
       "<Figure size 1440x720 with 1 Axes>"
      ]
     },
     "metadata": {
      "needs_background": "light"
     },
     "output_type": "display_data"
    }
   ],
   "source": [
    "#Box plot of total crime by moon phase\n",
    "Chicago_df.boxplot(\"NonViolent Crime\", by=\"Moon Phase_y\", figsize=(20, 10))\n",
    "plt.title('Non-Violent Crime Count vs Moon Phase')\n",
    "plt.ylabel('Crime Count')\n",
    "plt.ylim(0,500)"
   ]
  },
  {
   "cell_type": "code",
   "execution_count": 87,
   "metadata": {},
   "outputs": [
    {
     "data": {
      "text/plain": [
       "F_onewayResult(statistic=2.4711040789508973, pvalue=0.0739332076249511)"
      ]
     },
     "execution_count": 87,
     "metadata": {},
     "output_type": "execute_result"
    }
   ],
   "source": [
    "#total crime anova test\n",
    "group1 = Chicago_df[Chicago_df['Moon Phase_y'] == \"First Quarter\"][\"NonViolent Crime\"]\n",
    "group2 = Chicago_df[Chicago_df['Moon Phase_y'] == \"Full Moon\"][\"NonViolent Crime\"]\n",
    "group3 = Chicago_df[Chicago_df['Moon Phase_y'] == \"New Moon\"][\"NonViolent Crime\"]\n",
    "group4 = Chicago_df[Chicago_df['Moon Phase_y'] == \"Third Quarter\"][\"NonViolent Crime\"]\n",
    "\n",
    "stats.f_oneway(group1, group2, group3, group4)"
   ]
  },
  {
   "cell_type": "code",
   "execution_count": 88,
   "metadata": {},
   "outputs": [
    {
     "data": {
      "text/html": [
       "<div>\n",
       "<style scoped>\n",
       "    .dataframe tbody tr th:only-of-type {\n",
       "        vertical-align: middle;\n",
       "    }\n",
       "\n",
       "    .dataframe tbody tr th {\n",
       "        vertical-align: top;\n",
       "    }\n",
       "\n",
       "    .dataframe thead th {\n",
       "        text-align: right;\n",
       "    }\n",
       "</style>\n",
       "<table border=\"1\" class=\"dataframe\">\n",
       "  <thead>\n",
       "    <tr style=\"text-align: right;\">\n",
       "      <th></th>\n",
       "      <th>day</th>\n",
       "      <th>phase</th>\n",
       "    </tr>\n",
       "  </thead>\n",
       "  <tbody>\n",
       "    <tr>\n",
       "      <th>0</th>\n",
       "      <td>01 Apr</td>\n",
       "      <td>91.903333</td>\n",
       "    </tr>\n",
       "    <tr>\n",
       "      <th>1</th>\n",
       "      <td>01 Aug</td>\n",
       "      <td>98.278750</td>\n",
       "    </tr>\n",
       "    <tr>\n",
       "      <th>2</th>\n",
       "      <td>01 Dec</td>\n",
       "      <td>67.615417</td>\n",
       "    </tr>\n",
       "    <tr>\n",
       "      <th>3</th>\n",
       "      <td>01 Feb</td>\n",
       "      <td>94.082500</td>\n",
       "    </tr>\n",
       "    <tr>\n",
       "      <th>4</th>\n",
       "      <td>01 Jan</td>\n",
       "      <td>85.044000</td>\n",
       "    </tr>\n",
       "    <tr>\n",
       "      <th>...</th>\n",
       "      <td>...</td>\n",
       "      <td>...</td>\n",
       "    </tr>\n",
       "    <tr>\n",
       "      <th>360</th>\n",
       "      <td>31 Jan</td>\n",
       "      <td>88.698750</td>\n",
       "    </tr>\n",
       "    <tr>\n",
       "      <th>361</th>\n",
       "      <td>31 Jul</td>\n",
       "      <td>99.752500</td>\n",
       "    </tr>\n",
       "    <tr>\n",
       "      <th>362</th>\n",
       "      <td>31 Mar</td>\n",
       "      <td>86.065417</td>\n",
       "    </tr>\n",
       "    <tr>\n",
       "      <th>363</th>\n",
       "      <td>31 May</td>\n",
       "      <td>94.723750</td>\n",
       "    </tr>\n",
       "    <tr>\n",
       "      <th>364</th>\n",
       "      <td>31 Oct</td>\n",
       "      <td>79.571667</td>\n",
       "    </tr>\n",
       "  </tbody>\n",
       "</table>\n",
       "<p>365 rows × 2 columns</p>\n",
       "</div>"
      ],
      "text/plain": [
       "        day      phase\n",
       "0    01 Apr  91.903333\n",
       "1    01 Aug  98.278750\n",
       "2    01 Dec  67.615417\n",
       "3    01 Feb  94.082500\n",
       "4    01 Jan  85.044000\n",
       "..      ...        ...\n",
       "360  31 Jan  88.698750\n",
       "361  31 Jul  99.752500\n",
       "362  31 Mar  86.065417\n",
       "363  31 May  94.723750\n",
       "364  31 Oct  79.571667\n",
       "\n",
       "[365 rows x 2 columns]"
      ]
     },
     "execution_count": 88,
     "metadata": {},
     "output_type": "execute_result"
    }
   ],
   "source": [
    "# NASA Data\n",
    "csv_path = \"Resources/NASAmeans\"\n",
    "nasa_df = pd.read_csv(csv_path)\n",
    "\n",
    "nasa_df"
   ]
  },
  {
   "cell_type": "code",
   "execution_count": 89,
   "metadata": {},
   "outputs": [
    {
     "data": {
      "text/html": [
       "<div>\n",
       "<style scoped>\n",
       "    .dataframe tbody tr th:only-of-type {\n",
       "        vertical-align: middle;\n",
       "    }\n",
       "\n",
       "    .dataframe tbody tr th {\n",
       "        vertical-align: top;\n",
       "    }\n",
       "\n",
       "    .dataframe thead th {\n",
       "        text-align: right;\n",
       "    }\n",
       "</style>\n",
       "<table border=\"1\" class=\"dataframe\">\n",
       "  <thead>\n",
       "    <tr style=\"text-align: right;\">\n",
       "      <th></th>\n",
       "      <th>day</th>\n",
       "      <th>phase</th>\n",
       "      <th>Day</th>\n",
       "      <th>Mon</th>\n",
       "    </tr>\n",
       "  </thead>\n",
       "  <tbody>\n",
       "    <tr>\n",
       "      <th>0</th>\n",
       "      <td>01 Apr</td>\n",
       "      <td>91.903333</td>\n",
       "      <td>01</td>\n",
       "      <td>Apr</td>\n",
       "    </tr>\n",
       "    <tr>\n",
       "      <th>1</th>\n",
       "      <td>01 Aug</td>\n",
       "      <td>98.278750</td>\n",
       "      <td>01</td>\n",
       "      <td>Aug</td>\n",
       "    </tr>\n",
       "    <tr>\n",
       "      <th>2</th>\n",
       "      <td>01 Dec</td>\n",
       "      <td>67.615417</td>\n",
       "      <td>01</td>\n",
       "      <td>Dec</td>\n",
       "    </tr>\n",
       "    <tr>\n",
       "      <th>3</th>\n",
       "      <td>01 Feb</td>\n",
       "      <td>94.082500</td>\n",
       "      <td>01</td>\n",
       "      <td>Feb</td>\n",
       "    </tr>\n",
       "    <tr>\n",
       "      <th>4</th>\n",
       "      <td>01 Jan</td>\n",
       "      <td>85.044000</td>\n",
       "      <td>01</td>\n",
       "      <td>Jan</td>\n",
       "    </tr>\n",
       "    <tr>\n",
       "      <th>...</th>\n",
       "      <td>...</td>\n",
       "      <td>...</td>\n",
       "      <td>...</td>\n",
       "      <td>...</td>\n",
       "    </tr>\n",
       "    <tr>\n",
       "      <th>360</th>\n",
       "      <td>31 Jan</td>\n",
       "      <td>88.698750</td>\n",
       "      <td>31</td>\n",
       "      <td>Jan</td>\n",
       "    </tr>\n",
       "    <tr>\n",
       "      <th>361</th>\n",
       "      <td>31 Jul</td>\n",
       "      <td>99.752500</td>\n",
       "      <td>31</td>\n",
       "      <td>Jul</td>\n",
       "    </tr>\n",
       "    <tr>\n",
       "      <th>362</th>\n",
       "      <td>31 Mar</td>\n",
       "      <td>86.065417</td>\n",
       "      <td>31</td>\n",
       "      <td>Mar</td>\n",
       "    </tr>\n",
       "    <tr>\n",
       "      <th>363</th>\n",
       "      <td>31 May</td>\n",
       "      <td>94.723750</td>\n",
       "      <td>31</td>\n",
       "      <td>May</td>\n",
       "    </tr>\n",
       "    <tr>\n",
       "      <th>364</th>\n",
       "      <td>31 Oct</td>\n",
       "      <td>79.571667</td>\n",
       "      <td>31</td>\n",
       "      <td>Oct</td>\n",
       "    </tr>\n",
       "  </tbody>\n",
       "</table>\n",
       "<p>365 rows × 4 columns</p>\n",
       "</div>"
      ],
      "text/plain": [
       "        day      phase Day  Mon\n",
       "0    01 Apr  91.903333  01  Apr\n",
       "1    01 Aug  98.278750  01  Aug\n",
       "2    01 Dec  67.615417  01  Dec\n",
       "3    01 Feb  94.082500  01  Feb\n",
       "4    01 Jan  85.044000  01  Jan\n",
       "..      ...        ...  ..  ...\n",
       "360  31 Jan  88.698750  31  Jan\n",
       "361  31 Jul  99.752500  31  Jul\n",
       "362  31 Mar  86.065417  31  Mar\n",
       "363  31 May  94.723750  31  May\n",
       "364  31 Oct  79.571667  31  Oct\n",
       "\n",
       "[365 rows x 4 columns]"
      ]
     },
     "execution_count": 89,
     "metadata": {},
     "output_type": "execute_result"
    }
   ],
   "source": [
    "day = nasa_df.day.str[0:2]\n",
    "month = nasa_df.day.str[3:6]\n",
    "nasa_df['Day'] = day\n",
    "nasa_df['Mon'] = month\n",
    "nasa_df"
   ]
  },
  {
   "cell_type": "code",
   "execution_count": 90,
   "metadata": {},
   "outputs": [],
   "source": [
    "nasa_df.loc[nasa_df['Mon'] == 'Jan', 'Month'] = 'January'  \n",
    "nasa_df.loc[nasa_df['Mon'] == 'Feb', 'Month'] = 'February'  \n",
    "nasa_df.loc[nasa_df['Mon'] == 'Mar', 'Month'] = 'March'  \n",
    "nasa_df.loc[nasa_df['Mon'] == 'Apr', 'Month'] = 'April'  \n",
    "nasa_df.loc[nasa_df['Mon'] == 'May', 'Month'] = 'May'  \n",
    "nasa_df.loc[nasa_df['Mon'] == 'Jun', 'Month'] = 'June'  \n",
    "nasa_df.loc[nasa_df['Mon'] == 'Jul', 'Month'] = 'July'  \n",
    "nasa_df.loc[nasa_df['Mon'] == 'Aug', 'Month'] = 'August'  \n",
    "nasa_df.loc[nasa_df['Mon'] == 'Sep', 'Month'] = 'Spetember'  \n",
    "nasa_df.loc[nasa_df['Mon'] == 'Oct', 'Month'] = 'October'  \n",
    "nasa_df.loc[nasa_df['Mon'] == 'Nov', 'Month'] = 'November'  \n",
    "nasa_df.loc[nasa_df['Mon'] == 'Dec', 'Month'] = 'December'  \n",
    "nasa_df\n",
    "\n",
    "date = day + '/' + month +  \"/\" + \"15\"\n",
    "\n",
    "nasa_df['Date'] = date\n",
    "\n",
    "nasa_df['Date'] = pd.to_datetime(nasa_df.Date)\n",
    "nasa_df['Date'] = nasa_df['Date'].dt.strftime('%m/%d/%Y')\n",
    "nasa_df.Date = nasa_df.Date.str.replace('2015', '15')\n",
    "nasa_df.Date = nasa_df.Date.str.replace('01', '1')\n",
    "nasa_df.Date = nasa_df.Date.str.replace('02', '2')\n",
    "nasa_df.Date = nasa_df.Date.str.replace('03', '3')\n",
    "nasa_df.Date = nasa_df.Date.str.replace('04', '4')\n",
    "nasa_df.Date = nasa_df.Date.str.replace('05', '5')\n",
    "nasa_df.Date = nasa_df.Date.str.replace('06', '6')\n",
    "nasa_df.Date = nasa_df.Date.str.replace('07', '7')\n",
    "nasa_df.Date = nasa_df.Date.str.replace('08', '8')\n",
    "nasa_df.Date = nasa_df.Date.str.replace('09', '9')\n",
    "\n",
    "\n",
    "\n",
    "nasa_cleaned = pd.DataFrame({\"Moon Phase\": nasa_df['phase'],\n",
    "                            \"Date\": nasa_df['Date']})\n",
    "\n",
    "nasa_cleaned.head()\n",
    "# Export as csv\n",
    "nasa_cleaned.to_csv(\"nasa_cleaned.csv\")"
   ]
  },
  {
   "cell_type": "code",
   "execution_count": 91,
   "metadata": {},
   "outputs": [
    {
     "data": {
      "text/html": [
       "<div>\n",
       "<style scoped>\n",
       "    .dataframe tbody tr th:only-of-type {\n",
       "        vertical-align: middle;\n",
       "    }\n",
       "\n",
       "    .dataframe tbody tr th {\n",
       "        vertical-align: top;\n",
       "    }\n",
       "\n",
       "    .dataframe thead th {\n",
       "        text-align: right;\n",
       "    }\n",
       "</style>\n",
       "<table border=\"1\" class=\"dataframe\">\n",
       "  <thead>\n",
       "    <tr style=\"text-align: right;\">\n",
       "      <th></th>\n",
       "      <th>Moon Phase_x</th>\n",
       "      <th>Date</th>\n",
       "      <th>Crime Count</th>\n",
       "      <th>Moon Phase_y</th>\n",
       "      <th>Special</th>\n",
       "      <th>Special Type</th>\n",
       "    </tr>\n",
       "  </thead>\n",
       "  <tbody>\n",
       "    <tr>\n",
       "      <th>0</th>\n",
       "      <td>91.903333</td>\n",
       "      <td>4/1/15</td>\n",
       "      <td>97.0</td>\n",
       "      <td>NaN</td>\n",
       "      <td>NaN</td>\n",
       "      <td>NaN</td>\n",
       "    </tr>\n",
       "    <tr>\n",
       "      <th>1</th>\n",
       "      <td>98.278750</td>\n",
       "      <td>8/1/15</td>\n",
       "      <td>101.0</td>\n",
       "      <td>NaN</td>\n",
       "      <td>NaN</td>\n",
       "      <td>NaN</td>\n",
       "    </tr>\n",
       "    <tr>\n",
       "      <th>2</th>\n",
       "      <td>67.615417</td>\n",
       "      <td>12/1/15</td>\n",
       "      <td>83.0</td>\n",
       "      <td>NaN</td>\n",
       "      <td>NaN</td>\n",
       "      <td>NaN</td>\n",
       "    </tr>\n",
       "    <tr>\n",
       "      <th>3</th>\n",
       "      <td>94.082500</td>\n",
       "      <td>2/1/15</td>\n",
       "      <td>79.0</td>\n",
       "      <td>NaN</td>\n",
       "      <td>NaN</td>\n",
       "      <td>NaN</td>\n",
       "    </tr>\n",
       "    <tr>\n",
       "      <th>4</th>\n",
       "      <td>85.044000</td>\n",
       "      <td>1/1/15</td>\n",
       "      <td>87.0</td>\n",
       "      <td>NaN</td>\n",
       "      <td>NaN</td>\n",
       "      <td>NaN</td>\n",
       "    </tr>\n",
       "    <tr>\n",
       "      <th>...</th>\n",
       "      <td>...</td>\n",
       "      <td>...</td>\n",
       "      <td>...</td>\n",
       "      <td>...</td>\n",
       "      <td>...</td>\n",
       "      <td>...</td>\n",
       "    </tr>\n",
       "    <tr>\n",
       "      <th>360</th>\n",
       "      <td>88.698750</td>\n",
       "      <td>1/31/15</td>\n",
       "      <td>90.0</td>\n",
       "      <td>NaN</td>\n",
       "      <td>NaN</td>\n",
       "      <td>NaN</td>\n",
       "    </tr>\n",
       "    <tr>\n",
       "      <th>361</th>\n",
       "      <td>99.752500</td>\n",
       "      <td>7/31/15</td>\n",
       "      <td>97.0</td>\n",
       "      <td>Full Moon</td>\n",
       "      <td>y</td>\n",
       "      <td>Blue Moon</td>\n",
       "    </tr>\n",
       "    <tr>\n",
       "      <th>362</th>\n",
       "      <td>86.065417</td>\n",
       "      <td>3/31/15</td>\n",
       "      <td>57.0</td>\n",
       "      <td>NaN</td>\n",
       "      <td>NaN</td>\n",
       "      <td>NaN</td>\n",
       "    </tr>\n",
       "    <tr>\n",
       "      <th>363</th>\n",
       "      <td>94.723750</td>\n",
       "      <td>5/31/15</td>\n",
       "      <td>71.0</td>\n",
       "      <td>NaN</td>\n",
       "      <td>NaN</td>\n",
       "      <td>NaN</td>\n",
       "    </tr>\n",
       "    <tr>\n",
       "      <th>364</th>\n",
       "      <td>79.571667</td>\n",
       "      <td>10/31/15</td>\n",
       "      <td>100.0</td>\n",
       "      <td>NaN</td>\n",
       "      <td>NaN</td>\n",
       "      <td>NaN</td>\n",
       "    </tr>\n",
       "  </tbody>\n",
       "</table>\n",
       "<p>365 rows × 6 columns</p>\n",
       "</div>"
      ],
      "text/plain": [
       "     Moon Phase_x      Date  Crime Count Moon Phase_y Special Special Type\n",
       "0       91.903333    4/1/15         97.0          NaN     NaN          NaN\n",
       "1       98.278750    8/1/15        101.0          NaN     NaN          NaN\n",
       "2       67.615417   12/1/15         83.0          NaN     NaN          NaN\n",
       "3       94.082500    2/1/15         79.0          NaN     NaN          NaN\n",
       "4       85.044000    1/1/15         87.0          NaN     NaN          NaN\n",
       "..            ...       ...          ...          ...     ...          ...\n",
       "360     88.698750   1/31/15         90.0          NaN     NaN          NaN\n",
       "361     99.752500   7/31/15         97.0    Full Moon       y    Blue Moon\n",
       "362     86.065417   3/31/15         57.0          NaN     NaN          NaN\n",
       "363     94.723750   5/31/15         71.0          NaN     NaN          NaN\n",
       "364     79.571667  10/31/15        100.0          NaN     NaN          NaN\n",
       "\n",
       "[365 rows x 6 columns]"
      ]
     },
     "execution_count": 91,
     "metadata": {},
     "output_type": "execute_result"
    }
   ],
   "source": [
    "crime_moon_atl = pd.merge(nasa_cleaned, atl_df, how=\"outer\", on = \"Date\")\n",
    "crime_moon_atl = crime_moon_atl.dropna(how='all')\n",
    "crime_moon_atl"
   ]
  },
  {
   "cell_type": "markdown",
   "metadata": {},
   "source": [
    "# Atlanta Regression\n"
   ]
  },
  {
   "cell_type": "code",
   "execution_count": 92,
   "metadata": {},
   "outputs": [
    {
     "name": "stdout",
     "output_type": "stream",
     "text": [
      "The Correlation Coefficient is equal to -0.02952888922262145\n",
      "The r-squared is: 0.0008719552987218493\n"
     ]
    },
    {
     "data": {
      "image/png": "[encoded data removed]",
      "text/plain": [
       "<Figure size 432x288 with 1 Axes>"
      ]
     },
     "metadata": {
      "needs_background": "light"
     },
     "output_type": "display_data"
    }
   ],
   "source": [
    "# Crime Count Vs Visible Moon Atl (%) Linear Regression\n",
    "y_values = crime_moon_atl['Crime Count']\n",
    "x_values = crime_moon_atl['Moon Phase_x']\n",
    "(slope, intercept, rvalue, pvalue, stderr) = linregress(x_values, y_values)\n",
    "regress_values = x_values * slope + intercept\n",
    "line_eq = \"y = \" + str(round(slope,2)) + \"x + \" + str(round(intercept,2))\n",
    "plt.scatter(x_values,y_values)\n",
    "plt.plot(x_values,regress_values,\"r-\")\n",
    "plt.annotate(line_eq,(20,50),fontsize=15,color=\"red\")\n",
    "\n",
    "plt.title('Crime Count Vs Moon Visibility Atlanta')\n",
    "plt.ylabel(\"Crime Count\")\n",
    "plt.xlabel(\"Moon Visibility\")\n",
    "\n",
    "print(f'The Correlation Coefficient is equal to {rvalue}')\n",
    "print(f\"The r-squared is: {rvalue**2}\")\n",
    "plt.savefig(\"Images/CrimeVsMoonAtl.png\")"
   ]
  },
  {
   "cell_type": "markdown",
   "metadata": {},
   "source": [
    "# Portland Regression\n"
   ]
  },
  {
   "cell_type": "code",
   "execution_count": 93,
   "metadata": {},
   "outputs": [
    {
     "data": {
      "text/html": [
       "<div>\n",
       "<style scoped>\n",
       "    .dataframe tbody tr th:only-of-type {\n",
       "        vertical-align: middle;\n",
       "    }\n",
       "\n",
       "    .dataframe tbody tr th {\n",
       "        vertical-align: top;\n",
       "    }\n",
       "\n",
       "    .dataframe thead th {\n",
       "        text-align: right;\n",
       "    }\n",
       "</style>\n",
       "<table border=\"1\" class=\"dataframe\">\n",
       "  <thead>\n",
       "    <tr style=\"text-align: right;\">\n",
       "      <th></th>\n",
       "      <th>Moon Phase</th>\n",
       "      <th>Date</th>\n",
       "    </tr>\n",
       "  </thead>\n",
       "  <tbody>\n",
       "    <tr>\n",
       "      <th>0</th>\n",
       "      <td>91.903333</td>\n",
       "      <td>4/1/2015</td>\n",
       "    </tr>\n",
       "    <tr>\n",
       "      <th>1</th>\n",
       "      <td>98.278750</td>\n",
       "      <td>8/1/2015</td>\n",
       "    </tr>\n",
       "    <tr>\n",
       "      <th>2</th>\n",
       "      <td>67.615417</td>\n",
       "      <td>12/1/2015</td>\n",
       "    </tr>\n",
       "    <tr>\n",
       "      <th>3</th>\n",
       "      <td>94.082500</td>\n",
       "      <td>2/1/2015</td>\n",
       "    </tr>\n",
       "    <tr>\n",
       "      <th>4</th>\n",
       "      <td>85.044000</td>\n",
       "      <td>1/1/2015</td>\n",
       "    </tr>\n",
       "    <tr>\n",
       "      <th>...</th>\n",
       "      <td>...</td>\n",
       "      <td>...</td>\n",
       "    </tr>\n",
       "    <tr>\n",
       "      <th>360</th>\n",
       "      <td>88.698750</td>\n",
       "      <td>1/31/2015</td>\n",
       "    </tr>\n",
       "    <tr>\n",
       "      <th>361</th>\n",
       "      <td>99.752500</td>\n",
       "      <td>7/31/2015</td>\n",
       "    </tr>\n",
       "    <tr>\n",
       "      <th>362</th>\n",
       "      <td>86.065417</td>\n",
       "      <td>3/31/2015</td>\n",
       "    </tr>\n",
       "    <tr>\n",
       "      <th>363</th>\n",
       "      <td>94.723750</td>\n",
       "      <td>5/31/2015</td>\n",
       "    </tr>\n",
       "    <tr>\n",
       "      <th>364</th>\n",
       "      <td>79.571667</td>\n",
       "      <td>10/31/2015</td>\n",
       "    </tr>\n",
       "  </tbody>\n",
       "</table>\n",
       "<p>365 rows × 2 columns</p>\n",
       "</div>"
      ],
      "text/plain": [
       "     Moon Phase        Date\n",
       "0     91.903333    4/1/2015\n",
       "1     98.278750    8/1/2015\n",
       "2     67.615417   12/1/2015\n",
       "3     94.082500    2/1/2015\n",
       "4     85.044000    1/1/2015\n",
       "..          ...         ...\n",
       "360   88.698750   1/31/2015\n",
       "361   99.752500   7/31/2015\n",
       "362   86.065417   3/31/2015\n",
       "363   94.723750   5/31/2015\n",
       "364   79.571667  10/31/2015\n",
       "\n",
       "[365 rows x 2 columns]"
      ]
     },
     "execution_count": 93,
     "metadata": {},
     "output_type": "execute_result"
    }
   ],
   "source": [
    "date_pdx = pd.DataFrame(nasa_cleaned.Date.str.replace('15', '2015'))\n",
    "nasa_pdx = pd.DataFrame({\"Moon Phase\": nasa_df['phase'],\n",
    "                            \"Date\": date_pdx['Date']})\n",
    "nasa_pdx"
   ]
  },
  {
   "cell_type": "code",
   "execution_count": 94,
   "metadata": {},
   "outputs": [
    {
     "data": {
      "text/html": [
       "<div>\n",
       "<style scoped>\n",
       "    .dataframe tbody tr th:only-of-type {\n",
       "        vertical-align: middle;\n",
       "    }\n",
       "\n",
       "    .dataframe tbody tr th {\n",
       "        vertical-align: top;\n",
       "    }\n",
       "\n",
       "    .dataframe thead th {\n",
       "        text-align: right;\n",
       "    }\n",
       "</style>\n",
       "<table border=\"1\" class=\"dataframe\">\n",
       "  <thead>\n",
       "    <tr style=\"text-align: right;\">\n",
       "      <th></th>\n",
       "      <th>Date</th>\n",
       "      <th>Crime Count</th>\n",
       "      <th>Moon Phase</th>\n",
       "      <th>Special</th>\n",
       "      <th>Special Type</th>\n",
       "    </tr>\n",
       "  </thead>\n",
       "  <tbody>\n",
       "    <tr>\n",
       "      <th>0</th>\n",
       "      <td>1/1/2015</td>\n",
       "      <td>44.0</td>\n",
       "      <td>NaN</td>\n",
       "      <td>NaN</td>\n",
       "      <td>NaN</td>\n",
       "    </tr>\n",
       "    <tr>\n",
       "      <th>1</th>\n",
       "      <td>1/10/2015</td>\n",
       "      <td>1.0</td>\n",
       "      <td>NaN</td>\n",
       "      <td>NaN</td>\n",
       "      <td>NaN</td>\n",
       "    </tr>\n",
       "    <tr>\n",
       "      <th>2</th>\n",
       "      <td>1/11/2015</td>\n",
       "      <td>3.0</td>\n",
       "      <td>NaN</td>\n",
       "      <td>NaN</td>\n",
       "      <td>NaN</td>\n",
       "    </tr>\n",
       "    <tr>\n",
       "      <th>3</th>\n",
       "      <td>1/12/2015</td>\n",
       "      <td>2.0</td>\n",
       "      <td>NaN</td>\n",
       "      <td>NaN</td>\n",
       "      <td>NaN</td>\n",
       "    </tr>\n",
       "    <tr>\n",
       "      <th>4</th>\n",
       "      <td>1/13/2015</td>\n",
       "      <td>3.0</td>\n",
       "      <td>Third Quarter</td>\n",
       "      <td>n</td>\n",
       "      <td>NaN</td>\n",
       "    </tr>\n",
       "    <tr>\n",
       "      <th>...</th>\n",
       "      <td>...</td>\n",
       "      <td>...</td>\n",
       "      <td>...</td>\n",
       "      <td>...</td>\n",
       "      <td>...</td>\n",
       "    </tr>\n",
       "    <tr>\n",
       "      <th>348</th>\n",
       "      <td>9/7/2015</td>\n",
       "      <td>148.0</td>\n",
       "      <td>NaN</td>\n",
       "      <td>NaN</td>\n",
       "      <td>NaN</td>\n",
       "    </tr>\n",
       "    <tr>\n",
       "      <th>349</th>\n",
       "      <td>9/8/2015</td>\n",
       "      <td>162.0</td>\n",
       "      <td>NaN</td>\n",
       "      <td>NaN</td>\n",
       "      <td>NaN</td>\n",
       "    </tr>\n",
       "    <tr>\n",
       "      <th>350</th>\n",
       "      <td>9/9/2015</td>\n",
       "      <td>147.0</td>\n",
       "      <td>NaN</td>\n",
       "      <td>NaN</td>\n",
       "      <td>NaN</td>\n",
       "    </tr>\n",
       "    <tr>\n",
       "      <th>351</th>\n",
       "      <td>1/26/2015</td>\n",
       "      <td>NaN</td>\n",
       "      <td>First Quarter</td>\n",
       "      <td>n</td>\n",
       "      <td>NaN</td>\n",
       "    </tr>\n",
       "    <tr>\n",
       "      <th>352</th>\n",
       "      <td>NaN</td>\n",
       "      <td>NaN</td>\n",
       "      <td>NaN</td>\n",
       "      <td>NaN</td>\n",
       "      <td>NaN</td>\n",
       "    </tr>\n",
       "  </tbody>\n",
       "</table>\n",
       "<p>353 rows × 5 columns</p>\n",
       "</div>"
      ],
      "text/plain": [
       "          Date  Crime Count     Moon Phase Special Special Type\n",
       "0     1/1/2015         44.0            NaN     NaN          NaN\n",
       "1    1/10/2015          1.0            NaN     NaN          NaN\n",
       "2    1/11/2015          3.0            NaN     NaN          NaN\n",
       "3    1/12/2015          2.0            NaN     NaN          NaN\n",
       "4    1/13/2015          3.0  Third Quarter       n          NaN\n",
       "..         ...          ...            ...     ...          ...\n",
       "348   9/7/2015        148.0            NaN     NaN          NaN\n",
       "349   9/8/2015        162.0            NaN     NaN          NaN\n",
       "350   9/9/2015        147.0            NaN     NaN          NaN\n",
       "351  1/26/2015          NaN  First Quarter       n          NaN\n",
       "352        NaN          NaN            NaN     NaN          NaN\n",
       "\n",
       "[353 rows x 5 columns]"
      ]
     },
     "execution_count": 94,
     "metadata": {},
     "output_type": "execute_result"
    }
   ],
   "source": [
    "pdx_df"
   ]
  },
  {
   "cell_type": "code",
   "execution_count": 95,
   "metadata": {},
   "outputs": [
    {
     "data": {
      "text/html": [
       "<div>\n",
       "<style scoped>\n",
       "    .dataframe tbody tr th:only-of-type {\n",
       "        vertical-align: middle;\n",
       "    }\n",
       "\n",
       "    .dataframe tbody tr th {\n",
       "        vertical-align: top;\n",
       "    }\n",
       "\n",
       "    .dataframe thead th {\n",
       "        text-align: right;\n",
       "    }\n",
       "</style>\n",
       "<table border=\"1\" class=\"dataframe\">\n",
       "  <thead>\n",
       "    <tr style=\"text-align: right;\">\n",
       "      <th></th>\n",
       "      <th>Moon Phase_x</th>\n",
       "      <th>Date</th>\n",
       "      <th>Crime Count</th>\n",
       "      <th>Moon Phase_y</th>\n",
       "      <th>Special</th>\n",
       "      <th>Special Type</th>\n",
       "    </tr>\n",
       "  </thead>\n",
       "  <tbody>\n",
       "    <tr>\n",
       "      <th>0</th>\n",
       "      <td>91.903333</td>\n",
       "      <td>4/1/2015</td>\n",
       "      <td>31.0</td>\n",
       "      <td>NaN</td>\n",
       "      <td>NaN</td>\n",
       "      <td>NaN</td>\n",
       "    </tr>\n",
       "    <tr>\n",
       "      <th>1</th>\n",
       "      <td>98.278750</td>\n",
       "      <td>8/1/2015</td>\n",
       "      <td>158.0</td>\n",
       "      <td>NaN</td>\n",
       "      <td>NaN</td>\n",
       "      <td>NaN</td>\n",
       "    </tr>\n",
       "    <tr>\n",
       "      <th>2</th>\n",
       "      <td>67.615417</td>\n",
       "      <td>12/1/2015</td>\n",
       "      <td>188.0</td>\n",
       "      <td>NaN</td>\n",
       "      <td>NaN</td>\n",
       "      <td>NaN</td>\n",
       "    </tr>\n",
       "    <tr>\n",
       "      <th>3</th>\n",
       "      <td>94.082500</td>\n",
       "      <td>2/1/2015</td>\n",
       "      <td>18.0</td>\n",
       "      <td>NaN</td>\n",
       "      <td>NaN</td>\n",
       "      <td>NaN</td>\n",
       "    </tr>\n",
       "    <tr>\n",
       "      <th>4</th>\n",
       "      <td>85.044000</td>\n",
       "      <td>1/1/2015</td>\n",
       "      <td>44.0</td>\n",
       "      <td>NaN</td>\n",
       "      <td>NaN</td>\n",
       "      <td>NaN</td>\n",
       "    </tr>\n",
       "    <tr>\n",
       "      <th>...</th>\n",
       "      <td>...</td>\n",
       "      <td>...</td>\n",
       "      <td>...</td>\n",
       "      <td>...</td>\n",
       "      <td>...</td>\n",
       "      <td>...</td>\n",
       "    </tr>\n",
       "    <tr>\n",
       "      <th>360</th>\n",
       "      <td>88.698750</td>\n",
       "      <td>1/31/2015</td>\n",
       "      <td>2.0</td>\n",
       "      <td>NaN</td>\n",
       "      <td>NaN</td>\n",
       "      <td>NaN</td>\n",
       "    </tr>\n",
       "    <tr>\n",
       "      <th>361</th>\n",
       "      <td>99.752500</td>\n",
       "      <td>7/31/2015</td>\n",
       "      <td>172.0</td>\n",
       "      <td>Full Moon</td>\n",
       "      <td>y</td>\n",
       "      <td>Blue Moon</td>\n",
       "    </tr>\n",
       "    <tr>\n",
       "      <th>362</th>\n",
       "      <td>86.065417</td>\n",
       "      <td>3/31/2015</td>\n",
       "      <td>4.0</td>\n",
       "      <td>NaN</td>\n",
       "      <td>NaN</td>\n",
       "      <td>NaN</td>\n",
       "    </tr>\n",
       "    <tr>\n",
       "      <th>363</th>\n",
       "      <td>94.723750</td>\n",
       "      <td>5/31/2015</td>\n",
       "      <td>135.0</td>\n",
       "      <td>NaN</td>\n",
       "      <td>NaN</td>\n",
       "      <td>NaN</td>\n",
       "    </tr>\n",
       "    <tr>\n",
       "      <th>364</th>\n",
       "      <td>79.571667</td>\n",
       "      <td>10/31/2015</td>\n",
       "      <td>232.0</td>\n",
       "      <td>NaN</td>\n",
       "      <td>NaN</td>\n",
       "      <td>NaN</td>\n",
       "    </tr>\n",
       "  </tbody>\n",
       "</table>\n",
       "<p>365 rows × 6 columns</p>\n",
       "</div>"
      ],
      "text/plain": [
       "     Moon Phase_x        Date  Crime Count Moon Phase_y Special Special Type\n",
       "0       91.903333    4/1/2015         31.0          NaN     NaN          NaN\n",
       "1       98.278750    8/1/2015        158.0          NaN     NaN          NaN\n",
       "2       67.615417   12/1/2015        188.0          NaN     NaN          NaN\n",
       "3       94.082500    2/1/2015         18.0          NaN     NaN          NaN\n",
       "4       85.044000    1/1/2015         44.0          NaN     NaN          NaN\n",
       "..            ...         ...          ...          ...     ...          ...\n",
       "360     88.698750   1/31/2015          2.0          NaN     NaN          NaN\n",
       "361     99.752500   7/31/2015        172.0    Full Moon       y    Blue Moon\n",
       "362     86.065417   3/31/2015          4.0          NaN     NaN          NaN\n",
       "363     94.723750   5/31/2015        135.0          NaN     NaN          NaN\n",
       "364     79.571667  10/31/2015        232.0          NaN     NaN          NaN\n",
       "\n",
       "[365 rows x 6 columns]"
      ]
     },
     "execution_count": 95,
     "metadata": {},
     "output_type": "execute_result"
    }
   ],
   "source": [
    "crime_moon_pdx = pd.merge(nasa_pdx, pdx_df, how=\"left\", on = \"Date\")\n",
    "crime_moon_pdx = crime_moon_pdx.dropna(how='all')\n",
    "crime_moon_pdx"
   ]
  },
  {
   "cell_type": "code",
   "execution_count": 103,
   "metadata": {},
   "outputs": [],
   "source": [
    "modifiedCrime = crime_moon_pdx.drop(['Special', 'Special Type', 'Moon Phase_y'], axis=1)\n",
    "Crime = modifiedCrime.dropna()"
   ]
  },
  {
   "cell_type": "code",
   "execution_count": 104,
   "metadata": {},
   "outputs": [
    {
     "data": {
      "image/png": "[encoded data removed]",
      "text/plain": [
       "<Figure size 432x288 with 1 Axes>"
      ]
     },
     "metadata": {
      "needs_background": "light"
     },
     "output_type": "display_data"
    },
    {
     "name": "stdout",
     "output_type": "stream",
     "text": [
      "The Correlation Coefficient is equal to -0.009566607544582753\n",
      "The r-squared is: 9.151997991206766e-05\n"
     ]
    },
    {
     "data": {
      "text/plain": [
       "<Figure size 432x288 with 0 Axes>"
      ]
     },
     "metadata": {},
     "output_type": "display_data"
    }
   ],
   "source": [
    "#Crime Count Vs Visible Moon Pdx (%) Linear Regression\n",
    "y_values = Crime['Crime Count']\n",
    "x_values = Crime['Moon Phase_x']\n",
    "(slope, intercept, rvalue, pvalue, stderr) = linregress(x_values, y_values)\n",
    "regress_values = x_values * slope + intercept\n",
    "line_eq = \"y = \" + str(round(slope,2)) + \"x + \" + str(round(intercept,2))\n",
    "plt.scatter(x_values,y_values)\n",
    "plt.plot(x_values,regress_values,\"red\")\n",
    "plt.annotate(line_eq,(20,50),fontsize=15,color=\"red\")\n",
    "\n",
    "plt.title('Crime Count Vs Moon Visibility Portland')\n",
    "plt.ylabel(\"Crime Count\")\n",
    "plt.xlabel(\"Moon Visibility\")\n",
    "plt.show()\n",
    "print(f'The Correlation Coefficient is equal to {rvalue}')\n",
    "print(f\"The r-squared is: {rvalue**2}\")\n",
    "\n",
    "plt.savefig(\"Images/CrimeVsMoonPdx.png\")"
   ]
  },
  {
   "cell_type": "markdown",
   "metadata": {},
   "source": [
    "# Chicago Regression"
   ]
  },
  {
   "cell_type": "code",
   "execution_count": 38,
   "metadata": {},
   "outputs": [
    {
     "data": {
      "text/html": [
       "<div>\n",
       "<style scoped>\n",
       "    .dataframe tbody tr th:only-of-type {\n",
       "        vertical-align: middle;\n",
       "    }\n",
       "\n",
       "    .dataframe tbody tr th {\n",
       "        vertical-align: top;\n",
       "    }\n",
       "\n",
       "    .dataframe thead th {\n",
       "        text-align: right;\n",
       "    }\n",
       "</style>\n",
       "<table border=\"1\" class=\"dataframe\">\n",
       "  <thead>\n",
       "    <tr style=\"text-align: right;\">\n",
       "      <th></th>\n",
       "      <th>Moon Phase_x</th>\n",
       "      <th>Date</th>\n",
       "      <th>Crime Count</th>\n",
       "      <th>Moon Phase_y</th>\n",
       "      <th>Special</th>\n",
       "      <th>Special Type</th>\n",
       "    </tr>\n",
       "  </thead>\n",
       "  <tbody>\n",
       "    <tr>\n",
       "      <th>0</th>\n",
       "      <td>91.903333</td>\n",
       "      <td>4/1/15</td>\n",
       "      <td>923.0</td>\n",
       "      <td>NaN</td>\n",
       "      <td>NaN</td>\n",
       "      <td>NaN</td>\n",
       "    </tr>\n",
       "    <tr>\n",
       "      <th>1</th>\n",
       "      <td>98.278750</td>\n",
       "      <td>8/1/15</td>\n",
       "      <td>1036.0</td>\n",
       "      <td>NaN</td>\n",
       "      <td>NaN</td>\n",
       "      <td>NaN</td>\n",
       "    </tr>\n",
       "    <tr>\n",
       "      <th>2</th>\n",
       "      <td>67.615417</td>\n",
       "      <td>12/1/15</td>\n",
       "      <td>786.0</td>\n",
       "      <td>NaN</td>\n",
       "      <td>NaN</td>\n",
       "      <td>NaN</td>\n",
       "    </tr>\n",
       "    <tr>\n",
       "      <th>3</th>\n",
       "      <td>94.082500</td>\n",
       "      <td>2/1/15</td>\n",
       "      <td>555.0</td>\n",
       "      <td>NaN</td>\n",
       "      <td>NaN</td>\n",
       "      <td>NaN</td>\n",
       "    </tr>\n",
       "    <tr>\n",
       "      <th>4</th>\n",
       "      <td>85.044000</td>\n",
       "      <td>1/1/15</td>\n",
       "      <td>1201.0</td>\n",
       "      <td>NaN</td>\n",
       "      <td>NaN</td>\n",
       "      <td>NaN</td>\n",
       "    </tr>\n",
       "    <tr>\n",
       "      <th>...</th>\n",
       "      <td>...</td>\n",
       "      <td>...</td>\n",
       "      <td>...</td>\n",
       "      <td>...</td>\n",
       "      <td>...</td>\n",
       "      <td>...</td>\n",
       "    </tr>\n",
       "    <tr>\n",
       "      <th>360</th>\n",
       "      <td>88.698750</td>\n",
       "      <td>1/31/15</td>\n",
       "      <td>635.0</td>\n",
       "      <td>NaN</td>\n",
       "      <td>NaN</td>\n",
       "      <td>NaN</td>\n",
       "    </tr>\n",
       "    <tr>\n",
       "      <th>361</th>\n",
       "      <td>99.752500</td>\n",
       "      <td>7/31/15</td>\n",
       "      <td>779.0</td>\n",
       "      <td>Full Moon</td>\n",
       "      <td>y</td>\n",
       "      <td>Blue Moon</td>\n",
       "    </tr>\n",
       "    <tr>\n",
       "      <th>362</th>\n",
       "      <td>86.065417</td>\n",
       "      <td>3/31/15</td>\n",
       "      <td>693.0</td>\n",
       "      <td>NaN</td>\n",
       "      <td>NaN</td>\n",
       "      <td>NaN</td>\n",
       "    </tr>\n",
       "    <tr>\n",
       "      <th>363</th>\n",
       "      <td>94.723750</td>\n",
       "      <td>5/31/15</td>\n",
       "      <td>666.0</td>\n",
       "      <td>NaN</td>\n",
       "      <td>NaN</td>\n",
       "      <td>NaN</td>\n",
       "    </tr>\n",
       "    <tr>\n",
       "      <th>364</th>\n",
       "      <td>79.571667</td>\n",
       "      <td>10/31/15</td>\n",
       "      <td>721.0</td>\n",
       "      <td>NaN</td>\n",
       "      <td>NaN</td>\n",
       "      <td>NaN</td>\n",
       "    </tr>\n",
       "  </tbody>\n",
       "</table>\n",
       "<p>365 rows × 6 columns</p>\n",
       "</div>"
      ],
      "text/plain": [
       "     Moon Phase_x      Date  Crime Count Moon Phase_y Special Special Type\n",
       "0       91.903333    4/1/15        923.0          NaN     NaN          NaN\n",
       "1       98.278750    8/1/15       1036.0          NaN     NaN          NaN\n",
       "2       67.615417   12/1/15        786.0          NaN     NaN          NaN\n",
       "3       94.082500    2/1/15        555.0          NaN     NaN          NaN\n",
       "4       85.044000    1/1/15       1201.0          NaN     NaN          NaN\n",
       "..            ...       ...          ...          ...     ...          ...\n",
       "360     88.698750   1/31/15        635.0          NaN     NaN          NaN\n",
       "361     99.752500   7/31/15        779.0    Full Moon       y    Blue Moon\n",
       "362     86.065417   3/31/15        693.0          NaN     NaN          NaN\n",
       "363     94.723750   5/31/15        666.0          NaN     NaN          NaN\n",
       "364     79.571667  10/31/15        721.0          NaN     NaN          NaN\n",
       "\n",
       "[365 rows x 6 columns]"
      ]
     },
     "execution_count": 38,
     "metadata": {},
     "output_type": "execute_result"
    }
   ],
   "source": [
    "crime_moon_chi = pd.merge(nasa_cleaned, chi_df, how=\"outer\", on = \"Date\")\n",
    "crime_moon_chi = crime_moon_chi.dropna(how='all')\n",
    "crime_moon_chi"
   ]
  },
  {
   "cell_type": "code",
   "execution_count": 39,
   "metadata": {
    "scrolled": true
   },
   "outputs": [
    {
     "data": {
      "image/png": "[encoded data removed]",
      "text/plain": [
       "<Figure size 432x288 with 1 Axes>"
      ]
     },
     "metadata": {
      "needs_background": "light"
     },
     "output_type": "display_data"
    },
    {
     "name": "stdout",
     "output_type": "stream",
     "text": [
      "The Correlation Coefficient is equal to -0.11112829063057876\n",
      "The r-squared is: 0.01234949697847438\n"
     ]
    },
    {
     "data": {
      "text/plain": [
       "<Figure size 432x288 with 0 Axes>"
      ]
     },
     "metadata": {},
     "output_type": "display_data"
    }
   ],
   "source": [
    "# Crime Count Vs Visible Moon Chi (%) Linear Regression\n",
    "y_values = crime_moon_chi['Crime Count']\n",
    "x_values = crime_moon_chi['Moon Phase_x']\n",
    "(slope, intercept, rvalue, pvalue, stderr) = linregress(x_values, y_values)\n",
    "regress_values = x_values * slope + intercept\n",
    "line_eq = \"y = \" + str(round(slope,2)) + \"x + \" + str(round(intercept,2))\n",
    "plt.scatter(x_values,y_values)\n",
    "plt.plot(x_values,regress_values,\"red\")\n",
    "plt.annotate(line_eq,(20,1100),fontsize=15,color=\"red\")\n",
    "\n",
    "plt.title('Crime Count Vs Moon Visibility Chicago')\n",
    "plt.ylabel(\"Crime Count\")\n",
    "plt.xlabel(\"Moon Visibility\")\n",
    "plt.show()\n",
    "print(f'The Correlation Coefficient is equal to {rvalue}')\n",
    "print(f\"The r-squared is: {rvalue**2}\")\n",
    "\n",
    "plt.savefig(\"Images/CrimeVsMoonchi.png\")"
   ]
  },
  {
   "cell_type": "code",
   "execution_count": null,
   "metadata": {},
   "outputs": [],
   "source": []
  }
 ],
 "metadata": {
  "kernelspec": {
   "display_name": "Python 3",
   "language": "python",
   "name": "python3"
  },
  "language_info": {
   "codemirror_mode": {
    "name": "ipython",
    "version": 3
   },
   "file_extension": ".py",
   "mimetype": "text/x-python",
   "name": "python",
   "nbconvert_exporter": "python",
   "pygments_lexer": "ipython3",
   "version": "3.6.9"
  }
 },
 "nbformat": 4,
 "nbformat_minor": 2
}
