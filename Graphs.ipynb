{
 "cells": [
  {
   "cell_type": "code",
   "execution_count": 66,
   "metadata": {},
   "outputs": [],
   "source": [
    "# Dependencies and Setup\n",
    "import matplotlib.pyplot as plt\n",
    "import pandas as pd\n",
    "import numpy as np\n",
    "from scipy.stats import linregress"
   ]
  },
  {
   "cell_type": "code",
   "execution_count": 67,
   "metadata": {},
   "outputs": [
    {
     "data": {
      "text/html": [
       "<div>\n",
       "<style scoped>\n",
       "    .dataframe tbody tr th:only-of-type {\n",
       "        vertical-align: middle;\n",
       "    }\n",
       "\n",
       "    .dataframe tbody tr th {\n",
       "        vertical-align: top;\n",
       "    }\n",
       "\n",
       "    .dataframe thead th {\n",
       "        text-align: right;\n",
       "    }\n",
       "</style>\n",
       "<table border=\"1\" class=\"dataframe\">\n",
       "  <thead>\n",
       "    <tr style=\"text-align: right;\">\n",
       "      <th></th>\n",
       "      <th>Date</th>\n",
       "      <th>Crime Count</th>\n",
       "      <th>Moon Phase</th>\n",
       "      <th>Special</th>\n",
       "      <th>Special Type</th>\n",
       "    </tr>\n",
       "  </thead>\n",
       "  <tbody>\n",
       "    <tr>\n",
       "      <th>0</th>\n",
       "      <td>1/1/15</td>\n",
       "      <td>87.0</td>\n",
       "      <td>NaN</td>\n",
       "      <td>NaN</td>\n",
       "      <td>NaN</td>\n",
       "    </tr>\n",
       "    <tr>\n",
       "      <th>1</th>\n",
       "      <td>1/10/15</td>\n",
       "      <td>71.0</td>\n",
       "      <td>NaN</td>\n",
       "      <td>NaN</td>\n",
       "      <td>NaN</td>\n",
       "    </tr>\n",
       "    <tr>\n",
       "      <th>2</th>\n",
       "      <td>1/11/15</td>\n",
       "      <td>82.0</td>\n",
       "      <td>NaN</td>\n",
       "      <td>NaN</td>\n",
       "      <td>NaN</td>\n",
       "    </tr>\n",
       "    <tr>\n",
       "      <th>3</th>\n",
       "      <td>1/12/15</td>\n",
       "      <td>95.0</td>\n",
       "      <td>NaN</td>\n",
       "      <td>NaN</td>\n",
       "      <td>NaN</td>\n",
       "    </tr>\n",
       "    <tr>\n",
       "      <th>4</th>\n",
       "      <td>1/13/15</td>\n",
       "      <td>64.0</td>\n",
       "      <td>Third Quarter</td>\n",
       "      <td>n</td>\n",
       "      <td>NaN</td>\n",
       "    </tr>\n",
       "  </tbody>\n",
       "</table>\n",
       "</div>"
      ],
      "text/plain": [
       "      Date  Crime Count     Moon Phase Special Special Type\n",
       "0   1/1/15         87.0            NaN     NaN          NaN\n",
       "1  1/10/15         71.0            NaN     NaN          NaN\n",
       "2  1/11/15         82.0            NaN     NaN          NaN\n",
       "3  1/12/15         95.0            NaN     NaN          NaN\n",
       "4  1/13/15         64.0  Third Quarter       n          NaN"
      ]
     },
     "execution_count": 67,
     "metadata": {},
     "output_type": "execute_result"
    }
   ],
   "source": [
    "# Atlanta Data\n",
    "csv_path = \"Resources/AtlMoon.csv\"\n",
    "atl_df = pd.read_csv(csv_path)\n",
    "atl_df.head()"
   ]
  },
  {
   "cell_type": "code",
   "execution_count": 68,
   "metadata": {},
   "outputs": [
    {
     "data": {
      "text/plain": [
       "Moon Phase\n",
       "First Quarter     985.0\n",
       "Full Moon        1081.0\n",
       "New Moon          987.0\n",
       "Third Quarter    1001.0\n",
       "Name: Crime Count, dtype: float64"
      ]
     },
     "execution_count": 68,
     "metadata": {},
     "output_type": "execute_result"
    }
   ],
   "source": [
    "new_df = atl_df.groupby(['Moon Phase'])['Crime Count'].sum()\n",
    "new_df"
   ]
  },
  {
   "cell_type": "code",
   "execution_count": 69,
   "metadata": {},
   "outputs": [
    {
     "data": {
      "text/plain": [
       "Text(0, 0.5, 'Crime Count')"
      ]
     },
     "execution_count": 69,
     "metadata": {},
     "output_type": "execute_result"
    },
    {
     "data": {
      "image/png": "[encoded data removed]",
      "text/plain": [
       "<Figure size 432x288 with 1 Axes>"
      ]
     },
     "metadata": {
      "needs_background": "light"
     },
     "output_type": "display_data"
    }
   ],
   "source": [
    "crime_moon_graph = new_df.plot(kind=\"bar\", color=\"green\")\n",
    "\n",
    "plt.title('Crime Count per Moon Phase')\n",
    "plt.xlabel('Moon Phase')\n",
    "plt.ylabel('Crime Count')"
   ]
  },
  {
   "cell_type": "code",
   "execution_count": 70,
   "metadata": {},
   "outputs": [
    {
     "data": {
      "text/html": [
       "<div>\n",
       "<style scoped>\n",
       "    .dataframe tbody tr th:only-of-type {\n",
       "        vertical-align: middle;\n",
       "    }\n",
       "\n",
       "    .dataframe tbody tr th {\n",
       "        vertical-align: top;\n",
       "    }\n",
       "\n",
       "    .dataframe thead th {\n",
       "        text-align: right;\n",
       "    }\n",
       "</style>\n",
       "<table border=\"1\" class=\"dataframe\">\n",
       "  <thead>\n",
       "    <tr style=\"text-align: right;\">\n",
       "      <th></th>\n",
       "      <th>Date</th>\n",
       "      <th>Crime Count</th>\n",
       "      <th>Moon Phase</th>\n",
       "      <th>Special</th>\n",
       "      <th>Special Type</th>\n",
       "    </tr>\n",
       "  </thead>\n",
       "  <tbody>\n",
       "    <tr>\n",
       "      <th>0</th>\n",
       "      <td>1/1/2015</td>\n",
       "      <td>44.0</td>\n",
       "      <td>NaN</td>\n",
       "      <td>NaN</td>\n",
       "      <td>NaN</td>\n",
       "    </tr>\n",
       "    <tr>\n",
       "      <th>1</th>\n",
       "      <td>1/10/2015</td>\n",
       "      <td>1.0</td>\n",
       "      <td>NaN</td>\n",
       "      <td>NaN</td>\n",
       "      <td>NaN</td>\n",
       "    </tr>\n",
       "    <tr>\n",
       "      <th>2</th>\n",
       "      <td>1/11/2015</td>\n",
       "      <td>3.0</td>\n",
       "      <td>NaN</td>\n",
       "      <td>NaN</td>\n",
       "      <td>NaN</td>\n",
       "    </tr>\n",
       "    <tr>\n",
       "      <th>3</th>\n",
       "      <td>1/12/2015</td>\n",
       "      <td>2.0</td>\n",
       "      <td>NaN</td>\n",
       "      <td>NaN</td>\n",
       "      <td>NaN</td>\n",
       "    </tr>\n",
       "    <tr>\n",
       "      <th>4</th>\n",
       "      <td>1/13/2015</td>\n",
       "      <td>3.0</td>\n",
       "      <td>Third Quarter</td>\n",
       "      <td>n</td>\n",
       "      <td>NaN</td>\n",
       "    </tr>\n",
       "  </tbody>\n",
       "</table>\n",
       "</div>"
      ],
      "text/plain": [
       "        Date  Crime Count     Moon Phase Special Special Type\n",
       "0   1/1/2015         44.0            NaN     NaN          NaN\n",
       "1  1/10/2015          1.0            NaN     NaN          NaN\n",
       "2  1/11/2015          3.0            NaN     NaN          NaN\n",
       "3  1/12/2015          2.0            NaN     NaN          NaN\n",
       "4  1/13/2015          3.0  Third Quarter       n          NaN"
      ]
     },
     "execution_count": 70,
     "metadata": {},
     "output_type": "execute_result"
    }
   ],
   "source": [
    "# Portlabd Data\n",
    "csv_path = \"Resources/pdxMoon.csv\"\n",
    "pdx_df = pd.read_csv(csv_path)\n",
    "pdx_df.head()"
   ]
  },
  {
   "cell_type": "code",
   "execution_count": 71,
   "metadata": {},
   "outputs": [
    {
     "data": {
      "text/plain": [
       "Moon Phase\n",
       "First Quarter    1245.0\n",
       "Full Moon        1360.0\n",
       "New Moon         1269.0\n",
       "Third Quarter    1174.0\n",
       "Name: Crime Count, dtype: float64"
      ]
     },
     "execution_count": 71,
     "metadata": {},
     "output_type": "execute_result"
    }
   ],
   "source": [
    "new_df = pdx_df.groupby(['Moon Phase'])['Crime Count'].sum()\n",
    "new_df"
   ]
  },
  {
   "cell_type": "code",
   "execution_count": 72,
   "metadata": {
    "scrolled": true
   },
   "outputs": [
    {
     "data": {
      "text/plain": [
       "Text(0, 0.5, 'Crime Count')"
      ]
     },
     "execution_count": 72,
     "metadata": {},
     "output_type": "execute_result"
    },
    {
     "data": {
      "image/png": "[encoded data removed]",
      "text/plain": [
       "<Figure size 432x288 with 1 Axes>"
      ]
     },
     "metadata": {
      "needs_background": "light"
     },
     "output_type": "display_data"
    }
   ],
   "source": [
    "crime_moon_graph = new_df.plot(kind=\"bar\", color=\"green\")\n",
    "\n",
    "plt.title('Crime Count per Moon Phase')\n",
    "plt.xlabel('Moon Phase')\n",
    "plt.ylabel('Crime Count')"
   ]
  },
  {
   "cell_type": "code",
   "execution_count": 73,
   "metadata": {},
   "outputs": [],
   "source": [
    "# Chicago Data\n"
   ]
  },
  {
   "cell_type": "code",
   "execution_count": 76,
   "metadata": {},
   "outputs": [
    {
     "data": {
      "text/html": [
       "<div>\n",
       "<style scoped>\n",
       "    .dataframe tbody tr th:only-of-type {\n",
       "        vertical-align: middle;\n",
       "    }\n",
       "\n",
       "    .dataframe tbody tr th {\n",
       "        vertical-align: top;\n",
       "    }\n",
       "\n",
       "    .dataframe thead th {\n",
       "        text-align: right;\n",
       "    }\n",
       "</style>\n",
       "<table border=\"1\" class=\"dataframe\">\n",
       "  <thead>\n",
       "    <tr style=\"text-align: right;\">\n",
       "      <th></th>\n",
       "      <th>day</th>\n",
       "      <th>phase</th>\n",
       "    </tr>\n",
       "  </thead>\n",
       "  <tbody>\n",
       "    <tr>\n",
       "      <th>0</th>\n",
       "      <td>01 Apr</td>\n",
       "      <td>91.903333</td>\n",
       "    </tr>\n",
       "    <tr>\n",
       "      <th>1</th>\n",
       "      <td>01 Aug</td>\n",
       "      <td>98.278750</td>\n",
       "    </tr>\n",
       "    <tr>\n",
       "      <th>2</th>\n",
       "      <td>01 Dec</td>\n",
       "      <td>67.615417</td>\n",
       "    </tr>\n",
       "    <tr>\n",
       "      <th>3</th>\n",
       "      <td>01 Feb</td>\n",
       "      <td>94.082500</td>\n",
       "    </tr>\n",
       "    <tr>\n",
       "      <th>4</th>\n",
       "      <td>01 Jan</td>\n",
       "      <td>85.044000</td>\n",
       "    </tr>\n",
       "    <tr>\n",
       "      <th>...</th>\n",
       "      <td>...</td>\n",
       "      <td>...</td>\n",
       "    </tr>\n",
       "    <tr>\n",
       "      <th>360</th>\n",
       "      <td>31 Jan</td>\n",
       "      <td>88.698750</td>\n",
       "    </tr>\n",
       "    <tr>\n",
       "      <th>361</th>\n",
       "      <td>31 Jul</td>\n",
       "      <td>99.752500</td>\n",
       "    </tr>\n",
       "    <tr>\n",
       "      <th>362</th>\n",
       "      <td>31 Mar</td>\n",
       "      <td>86.065417</td>\n",
       "    </tr>\n",
       "    <tr>\n",
       "      <th>363</th>\n",
       "      <td>31 May</td>\n",
       "      <td>94.723750</td>\n",
       "    </tr>\n",
       "    <tr>\n",
       "      <th>364</th>\n",
       "      <td>31 Oct</td>\n",
       "      <td>79.571667</td>\n",
       "    </tr>\n",
       "  </tbody>\n",
       "</table>\n",
       "<p>365 rows × 2 columns</p>\n",
       "</div>"
      ],
      "text/plain": [
       "        day      phase\n",
       "0    01 Apr  91.903333\n",
       "1    01 Aug  98.278750\n",
       "2    01 Dec  67.615417\n",
       "3    01 Feb  94.082500\n",
       "4    01 Jan  85.044000\n",
       "..      ...        ...\n",
       "360  31 Jan  88.698750\n",
       "361  31 Jul  99.752500\n",
       "362  31 Mar  86.065417\n",
       "363  31 May  94.723750\n",
       "364  31 Oct  79.571667\n",
       "\n",
       "[365 rows x 2 columns]"
      ]
     },
     "execution_count": 76,
     "metadata": {},
     "output_type": "execute_result"
    }
   ],
   "source": [
    "# NASA Data\n",
    "csv_path = \"NASAmeans\"\n",
    "nasa_df = pd.read_csv(csv_path)\n",
    "\n",
    "nasa_df"
   ]
  },
  {
   "cell_type": "code",
   "execution_count": 77,
   "metadata": {},
   "outputs": [
    {
     "data": {
      "text/html": [
       "<div>\n",
       "<style scoped>\n",
       "    .dataframe tbody tr th:only-of-type {\n",
       "        vertical-align: middle;\n",
       "    }\n",
       "\n",
       "    .dataframe tbody tr th {\n",
       "        vertical-align: top;\n",
       "    }\n",
       "\n",
       "    .dataframe thead th {\n",
       "        text-align: right;\n",
       "    }\n",
       "</style>\n",
       "<table border=\"1\" class=\"dataframe\">\n",
       "  <thead>\n",
       "    <tr style=\"text-align: right;\">\n",
       "      <th></th>\n",
       "      <th>day</th>\n",
       "      <th>phase</th>\n",
       "      <th>Day</th>\n",
       "      <th>Mon</th>\n",
       "    </tr>\n",
       "  </thead>\n",
       "  <tbody>\n",
       "    <tr>\n",
       "      <th>0</th>\n",
       "      <td>01 Apr</td>\n",
       "      <td>91.903333</td>\n",
       "      <td>01</td>\n",
       "      <td>Apr</td>\n",
       "    </tr>\n",
       "    <tr>\n",
       "      <th>1</th>\n",
       "      <td>01 Aug</td>\n",
       "      <td>98.278750</td>\n",
       "      <td>01</td>\n",
       "      <td>Aug</td>\n",
       "    </tr>\n",
       "    <tr>\n",
       "      <th>2</th>\n",
       "      <td>01 Dec</td>\n",
       "      <td>67.615417</td>\n",
       "      <td>01</td>\n",
       "      <td>Dec</td>\n",
       "    </tr>\n",
       "    <tr>\n",
       "      <th>3</th>\n",
       "      <td>01 Feb</td>\n",
       "      <td>94.082500</td>\n",
       "      <td>01</td>\n",
       "      <td>Feb</td>\n",
       "    </tr>\n",
       "    <tr>\n",
       "      <th>4</th>\n",
       "      <td>01 Jan</td>\n",
       "      <td>85.044000</td>\n",
       "      <td>01</td>\n",
       "      <td>Jan</td>\n",
       "    </tr>\n",
       "    <tr>\n",
       "      <th>...</th>\n",
       "      <td>...</td>\n",
       "      <td>...</td>\n",
       "      <td>...</td>\n",
       "      <td>...</td>\n",
       "    </tr>\n",
       "    <tr>\n",
       "      <th>360</th>\n",
       "      <td>31 Jan</td>\n",
       "      <td>88.698750</td>\n",
       "      <td>31</td>\n",
       "      <td>Jan</td>\n",
       "    </tr>\n",
       "    <tr>\n",
       "      <th>361</th>\n",
       "      <td>31 Jul</td>\n",
       "      <td>99.752500</td>\n",
       "      <td>31</td>\n",
       "      <td>Jul</td>\n",
       "    </tr>\n",
       "    <tr>\n",
       "      <th>362</th>\n",
       "      <td>31 Mar</td>\n",
       "      <td>86.065417</td>\n",
       "      <td>31</td>\n",
       "      <td>Mar</td>\n",
       "    </tr>\n",
       "    <tr>\n",
       "      <th>363</th>\n",
       "      <td>31 May</td>\n",
       "      <td>94.723750</td>\n",
       "      <td>31</td>\n",
       "      <td>May</td>\n",
       "    </tr>\n",
       "    <tr>\n",
       "      <th>364</th>\n",
       "      <td>31 Oct</td>\n",
       "      <td>79.571667</td>\n",
       "      <td>31</td>\n",
       "      <td>Oct</td>\n",
       "    </tr>\n",
       "  </tbody>\n",
       "</table>\n",
       "<p>365 rows × 4 columns</p>\n",
       "</div>"
      ],
      "text/plain": [
       "        day      phase Day  Mon\n",
       "0    01 Apr  91.903333  01  Apr\n",
       "1    01 Aug  98.278750  01  Aug\n",
       "2    01 Dec  67.615417  01  Dec\n",
       "3    01 Feb  94.082500  01  Feb\n",
       "4    01 Jan  85.044000  01  Jan\n",
       "..      ...        ...  ..  ...\n",
       "360  31 Jan  88.698750  31  Jan\n",
       "361  31 Jul  99.752500  31  Jul\n",
       "362  31 Mar  86.065417  31  Mar\n",
       "363  31 May  94.723750  31  May\n",
       "364  31 Oct  79.571667  31  Oct\n",
       "\n",
       "[365 rows x 4 columns]"
      ]
     },
     "execution_count": 77,
     "metadata": {},
     "output_type": "execute_result"
    }
   ],
   "source": [
    "day = nasa_df.day.str[0:2]\n",
    "month = nasa_df.day.str[3:6]\n",
    "nasa_df['Day'] = day\n",
    "nasa_df['Mon'] = month\n",
    "nasa_df"
   ]
  },
  {
   "cell_type": "code",
   "execution_count": 120,
   "metadata": {},
   "outputs": [],
   "source": [
    "nasa_df.loc[nasa_df['Mon'] == 'Jan', 'Month'] = 'January'  \n",
    "nasa_df.loc[nasa_df['Mon'] == 'Feb', 'Month'] = 'February'  \n",
    "nasa_df.loc[nasa_df['Mon'] == 'Mar', 'Month'] = 'March'  \n",
    "nasa_df.loc[nasa_df['Mon'] == 'Apr', 'Month'] = 'April'  \n",
    "nasa_df.loc[nasa_df['Mon'] == 'May', 'Month'] = 'May'  \n",
    "nasa_df.loc[nasa_df['Mon'] == 'Jun', 'Month'] = 'June'  \n",
    "nasa_df.loc[nasa_df['Mon'] == 'Jul', 'Month'] = 'July'  \n",
    "nasa_df.loc[nasa_df['Mon'] == 'Aug', 'Month'] = 'August'  \n",
    "nasa_df.loc[nasa_df['Mon'] == 'Sep', 'Month'] = 'Spetember'  \n",
    "nasa_df.loc[nasa_df['Mon'] == 'Oct', 'Month'] = 'October'  \n",
    "nasa_df.loc[nasa_df['Mon'] == 'Nov', 'Month'] = 'November'  \n",
    "nasa_df.loc[nasa_df['Mon'] == 'Dec', 'Month'] = 'December'  \n",
    "nasa_df\n",
    "\n",
    "date = day + '/' + month +  \"/\" + \"15\"\n",
    "\n",
    "nasa_df['Date'] = date\n",
    "\n",
    "nasa_df['Date'] = pd.to_datetime(nasa_df.Date)\n",
    "nasa_df['Date'] = nasa_df['Date'].dt.strftime('%m/%d/%Y')\n",
    "nasa_df.Date = nasa_df.Date.str.replace('2015', '15')\n",
    "nasa_df.Date = nasa_df.Date.str.replace('01', '1')\n",
    "nasa_df.Date = nasa_df.Date.str.replace('02', '2')\n",
    "nasa_df.Date = nasa_df.Date.str.replace('03', '3')\n",
    "nasa_df.Date = nasa_df.Date.str.replace('04', '4')\n",
    "nasa_df.Date = nasa_df.Date.str.replace('05', '5')\n",
    "nasa_df.Date = nasa_df.Date.str.replace('06', '6')\n",
    "nasa_df.Date = nasa_df.Date.str.replace('07', '7')\n",
    "nasa_df.Date = nasa_df.Date.str.replace('08', '8')\n",
    "nasa_df.Date = nasa_df.Date.str.replace('09', '9')\n",
    "\n",
    "\n",
    "\n",
    "nasa_cleaned = pd.DataFrame({\"Moon Phase\": nasa_df['phase'],\n",
    "                            \"Date\": nasa_df['Date']})\n",
    "\n",
    "nasa_cleaned.head()\n",
    "# Export as csv\n",
    "nasa_cleaned.to_csv(\"nasa_cleaned.csv\")"
   ]
  },
  {
   "cell_type": "code",
   "execution_count": 110,
   "metadata": {},
   "outputs": [
    {
     "data": {
      "text/html": [
       "<div>\n",
       "<style scoped>\n",
       "    .dataframe tbody tr th:only-of-type {\n",
       "        vertical-align: middle;\n",
       "    }\n",
       "\n",
       "    .dataframe tbody tr th {\n",
       "        vertical-align: top;\n",
       "    }\n",
       "\n",
       "    .dataframe thead th {\n",
       "        text-align: right;\n",
       "    }\n",
       "</style>\n",
       "<table border=\"1\" class=\"dataframe\">\n",
       "  <thead>\n",
       "    <tr style=\"text-align: right;\">\n",
       "      <th></th>\n",
       "      <th>Moon Phase_x</th>\n",
       "      <th>Date</th>\n",
       "      <th>Crime Count</th>\n",
       "      <th>Moon Phase_y</th>\n",
       "      <th>Special</th>\n",
       "      <th>Special Type</th>\n",
       "    </tr>\n",
       "  </thead>\n",
       "  <tbody>\n",
       "    <tr>\n",
       "      <th>0</th>\n",
       "      <td>91.903333</td>\n",
       "      <td>4/1/15</td>\n",
       "      <td>97.0</td>\n",
       "      <td>NaN</td>\n",
       "      <td>NaN</td>\n",
       "      <td>NaN</td>\n",
       "    </tr>\n",
       "    <tr>\n",
       "      <th>1</th>\n",
       "      <td>98.278750</td>\n",
       "      <td>8/1/15</td>\n",
       "      <td>101.0</td>\n",
       "      <td>NaN</td>\n",
       "      <td>NaN</td>\n",
       "      <td>NaN</td>\n",
       "    </tr>\n",
       "    <tr>\n",
       "      <th>2</th>\n",
       "      <td>67.615417</td>\n",
       "      <td>12/1/15</td>\n",
       "      <td>83.0</td>\n",
       "      <td>NaN</td>\n",
       "      <td>NaN</td>\n",
       "      <td>NaN</td>\n",
       "    </tr>\n",
       "    <tr>\n",
       "      <th>3</th>\n",
       "      <td>94.082500</td>\n",
       "      <td>2/1/15</td>\n",
       "      <td>79.0</td>\n",
       "      <td>NaN</td>\n",
       "      <td>NaN</td>\n",
       "      <td>NaN</td>\n",
       "    </tr>\n",
       "    <tr>\n",
       "      <th>4</th>\n",
       "      <td>85.044000</td>\n",
       "      <td>1/1/15</td>\n",
       "      <td>87.0</td>\n",
       "      <td>NaN</td>\n",
       "      <td>NaN</td>\n",
       "      <td>NaN</td>\n",
       "    </tr>\n",
       "    <tr>\n",
       "      <th>...</th>\n",
       "      <td>...</td>\n",
       "      <td>...</td>\n",
       "      <td>...</td>\n",
       "      <td>...</td>\n",
       "      <td>...</td>\n",
       "      <td>...</td>\n",
       "    </tr>\n",
       "    <tr>\n",
       "      <th>361</th>\n",
       "      <td>99.752500</td>\n",
       "      <td>7/31/15</td>\n",
       "      <td>97.0</td>\n",
       "      <td>Full Moon</td>\n",
       "      <td>y</td>\n",
       "      <td>Blue Moon</td>\n",
       "    </tr>\n",
       "    <tr>\n",
       "      <th>362</th>\n",
       "      <td>86.065417</td>\n",
       "      <td>3/31/15</td>\n",
       "      <td>57.0</td>\n",
       "      <td>NaN</td>\n",
       "      <td>NaN</td>\n",
       "      <td>NaN</td>\n",
       "    </tr>\n",
       "    <tr>\n",
       "      <th>363</th>\n",
       "      <td>94.723750</td>\n",
       "      <td>5/31/15</td>\n",
       "      <td>71.0</td>\n",
       "      <td>NaN</td>\n",
       "      <td>NaN</td>\n",
       "      <td>NaN</td>\n",
       "    </tr>\n",
       "    <tr>\n",
       "      <th>364</th>\n",
       "      <td>79.571667</td>\n",
       "      <td>10/31/15</td>\n",
       "      <td>100.0</td>\n",
       "      <td>NaN</td>\n",
       "      <td>NaN</td>\n",
       "      <td>NaN</td>\n",
       "    </tr>\n",
       "    <tr>\n",
       "      <th>365</th>\n",
       "      <td>NaN</td>\n",
       "      <td>NaN</td>\n",
       "      <td>NaN</td>\n",
       "      <td>NaN</td>\n",
       "      <td>NaN</td>\n",
       "      <td>NaN</td>\n",
       "    </tr>\n",
       "  </tbody>\n",
       "</table>\n",
       "<p>366 rows × 6 columns</p>\n",
       "</div>"
      ],
      "text/plain": [
       "     Moon Phase_x      Date  Crime Count Moon Phase_y Special Special Type\n",
       "0       91.903333    4/1/15         97.0          NaN     NaN          NaN\n",
       "1       98.278750    8/1/15        101.0          NaN     NaN          NaN\n",
       "2       67.615417   12/1/15         83.0          NaN     NaN          NaN\n",
       "3       94.082500    2/1/15         79.0          NaN     NaN          NaN\n",
       "4       85.044000    1/1/15         87.0          NaN     NaN          NaN\n",
       "..            ...       ...          ...          ...     ...          ...\n",
       "361     99.752500   7/31/15         97.0    Full Moon       y    Blue Moon\n",
       "362     86.065417   3/31/15         57.0          NaN     NaN          NaN\n",
       "363     94.723750   5/31/15         71.0          NaN     NaN          NaN\n",
       "364     79.571667  10/31/15        100.0          NaN     NaN          NaN\n",
       "365           NaN       NaN          NaN          NaN     NaN          NaN\n",
       "\n",
       "[366 rows x 6 columns]"
      ]
     },
     "execution_count": 110,
     "metadata": {},
     "output_type": "execute_result"
    }
   ],
   "source": [
    "crime_moon_atl = pd.merge(nasa_cleaned, atl_df, how=\"outer\", on = \"Date\")\n",
    "\n",
    "crime_moon_df"
   ]
  },
  {
   "cell_type": "code",
   "execution_count": 119,
   "metadata": {},
   "outputs": [
    {
     "data": {
      "image/png": "[encoded data removed]",
      "text/plain": [
       "<Figure size 432x288 with 1 Axes>"
      ]
     },
     "metadata": {
      "needs_background": "light"
     },
     "output_type": "display_data"
    }
   ],
   "source": [
    "# Crime Count Vs Visible Moon (%) Linear Regression\n",
    "y_values = crime_moon_df['Crime Count']\n",
    "x_values = crime_moon_df['Moon Phase_x']\n",
    "(slope, intercept, rvalue, pvalue, stderr) = linregress(x_values, y_values)\n",
    "regress_values = x_values * slope + intercept\n",
    "line_eq = \"y = \" + str(round(slope,2)) + \"x + \" + str(round(intercept,2))\n",
    "plt.scatter(x_values,y_values)\n",
    "plt.plot(x_values,regress_values,\"red\")\n",
    "plt.annotate(line_eq,(45,30),fontsize=15,color=\"red\")\n",
    "\n",
    "plt.ylabel(\"Moon Visibility\")\n",
    "plt.xlabel(\"Crime Count\")\n",
    "plt.show()\n",
    "\n",
    "# plt.savefig(\"CrimeVsMoonViz.png\")"
   ]
  },
  {
   "cell_type": "code",
   "execution_count": null,
   "metadata": {},
   "outputs": [],
   "source": []
  },
  {
   "cell_type": "code",
   "execution_count": null,
   "metadata": {},
   "outputs": [],
   "source": []
  },
  {
   "cell_type": "code",
   "execution_count": null,
   "metadata": {},
   "outputs": [],
   "source": []
  },
  {
   "cell_type": "code",
   "execution_count": null,
   "metadata": {},
   "outputs": [],
   "source": []
  },
  {
   "cell_type": "code",
   "execution_count": null,
   "metadata": {},
   "outputs": [],
   "source": []
  }
 ],
 "metadata": {
  "kernelspec": {
   "display_name": "Python 3",
   "language": "python",
   "name": "python3"
  },
  "language_info": {
   "codemirror_mode": {
    "name": "ipython",
    "version": 3
   },
   "file_extension": ".py",
   "mimetype": "text/x-python",
   "name": "python",
   "nbconvert_exporter": "python",
   "pygments_lexer": "ipython3",
   "version": "3.6.9"
  }
 },
 "nbformat": 4,
 "nbformat_minor": 2
}
