{
 "cells": [
  {
   "cell_type": "code",
   "execution_count": 232,
   "metadata": {},
   "outputs": [],
   "source": [
    "import matplotlib.pyplot as plt\n",
    "import pandas as pd\n",
    "import numpy as np\n",
    "import requests\n",
    "import time\n",
    "from scipy.stats import linregress\n",
    "from pprint import pprint \n",
    "import json"
   ]
  },
  {
   "cell_type": "code",
   "execution_count": 430,
   "metadata": {},
   "outputs": [],
   "source": [
    "sachel=[]\n",
    "bag=[]\n",
    "for i in range(1070000,1340000,1000):\n",
    "    url = (f'https://data.cityofchicago.org/resource/ijzp-q8t2.json?$limit=1000&$offset={i}')\n",
    "    response=requests.get(url).json()\n",
    "    for j in range(0,1000,1):\n",
    "        if response[j].get('year')=='2015':\n",
    "            sack=(response[j].get('date'), response[j].get('primary_type'),response[j].get('description'))\n",
    "            bag.append(sack)\n",
    "        else:\n",
    "            sachel.append(response[j].get('year')) "
   ]
  },
  {
   "cell_type": "code",
   "execution_count": 457,
   "metadata": {},
   "outputs": [
    {
     "data": {
      "text/html": [
       "<div>\n",
       "<style scoped>\n",
       "    .dataframe tbody tr th:only-of-type {\n",
       "        vertical-align: middle;\n",
       "    }\n",
       "\n",
       "    .dataframe tbody tr th {\n",
       "        vertical-align: top;\n",
       "    }\n",
       "\n",
       "    .dataframe thead th {\n",
       "        text-align: right;\n",
       "    }\n",
       "</style>\n",
       "<table border=\"1\" class=\"dataframe\">\n",
       "  <thead>\n",
       "    <tr style=\"text-align: right;\">\n",
       "      <th></th>\n",
       "      <th>Date</th>\n",
       "      <th>Charge</th>\n",
       "      <th>Description</th>\n",
       "    </tr>\n",
       "  </thead>\n",
       "  <tbody>\n",
       "    <tr>\n",
       "      <th>0</th>\n",
       "      <td>2015-12-31T23:59:00.000</td>\n",
       "      <td>THEFT</td>\n",
       "      <td>FROM BUILDING</td>\n",
       "    </tr>\n",
       "    <tr>\n",
       "      <th>1</th>\n",
       "      <td>2015-12-31T23:59:00.000</td>\n",
       "      <td>CRIMINAL DAMAGE</td>\n",
       "      <td>TO VEHICLE</td>\n",
       "    </tr>\n",
       "    <tr>\n",
       "      <th>2</th>\n",
       "      <td>2015-12-31T23:55:00.000</td>\n",
       "      <td>BATTERY</td>\n",
       "      <td>AGGRAVATED: OTHER DANG WEAPON</td>\n",
       "    </tr>\n",
       "    <tr>\n",
       "      <th>3</th>\n",
       "      <td>2015-12-31T23:50:00.000</td>\n",
       "      <td>THEFT</td>\n",
       "      <td>$500 AND UNDER</td>\n",
       "    </tr>\n",
       "    <tr>\n",
       "      <th>4</th>\n",
       "      <td>2015-12-31T23:50:00.000</td>\n",
       "      <td>BATTERY</td>\n",
       "      <td>SIMPLE</td>\n",
       "    </tr>\n",
       "    <tr>\n",
       "      <th>...</th>\n",
       "      <td>...</td>\n",
       "      <td>...</td>\n",
       "      <td>...</td>\n",
       "    </tr>\n",
       "    <tr>\n",
       "      <th>264307</th>\n",
       "      <td>2015-01-01T00:00:00.000</td>\n",
       "      <td>CRIM SEXUAL ASSAULT</td>\n",
       "      <td>NON-AGGRAVATED</td>\n",
       "    </tr>\n",
       "    <tr>\n",
       "      <th>264308</th>\n",
       "      <td>2015-01-01T00:00:00.000</td>\n",
       "      <td>DECEPTIVE PRACTICE</td>\n",
       "      <td>FINANCIAL IDENTITY THEFT OVER $ 300</td>\n",
       "    </tr>\n",
       "    <tr>\n",
       "      <th>264309</th>\n",
       "      <td>2015-01-01T00:00:00.000</td>\n",
       "      <td>OFFENSE INVOLVING CHILDREN</td>\n",
       "      <td>SEX ASSLT OF CHILD BY FAM MBR</td>\n",
       "    </tr>\n",
       "    <tr>\n",
       "      <th>264310</th>\n",
       "      <td>2015-01-01T00:00:00.000</td>\n",
       "      <td>DECEPTIVE PRACTICE</td>\n",
       "      <td>FINANCIAL IDENTITY THEFT OVER $ 300</td>\n",
       "    </tr>\n",
       "    <tr>\n",
       "      <th>264311</th>\n",
       "      <td>2015-01-01T00:00:00.000</td>\n",
       "      <td>OFFENSE INVOLVING CHILDREN</td>\n",
       "      <td>AGG CRIM SEX ABUSE FAM MEMBER</td>\n",
       "    </tr>\n",
       "  </tbody>\n",
       "</table>\n",
       "<p>264312 rows × 3 columns</p>\n",
       "</div>"
      ],
      "text/plain": [
       "                           Date                      Charge  \\\n",
       "0       2015-12-31T23:59:00.000                       THEFT   \n",
       "1       2015-12-31T23:59:00.000             CRIMINAL DAMAGE   \n",
       "2       2015-12-31T23:55:00.000                     BATTERY   \n",
       "3       2015-12-31T23:50:00.000                       THEFT   \n",
       "4       2015-12-31T23:50:00.000                     BATTERY   \n",
       "...                         ...                         ...   \n",
       "264307  2015-01-01T00:00:00.000         CRIM SEXUAL ASSAULT   \n",
       "264308  2015-01-01T00:00:00.000          DECEPTIVE PRACTICE   \n",
       "264309  2015-01-01T00:00:00.000  OFFENSE INVOLVING CHILDREN   \n",
       "264310  2015-01-01T00:00:00.000          DECEPTIVE PRACTICE   \n",
       "264311  2015-01-01T00:00:00.000  OFFENSE INVOLVING CHILDREN   \n",
       "\n",
       "                                Description  \n",
       "0                             FROM BUILDING  \n",
       "1                                TO VEHICLE  \n",
       "2             AGGRAVATED: OTHER DANG WEAPON  \n",
       "3                            $500 AND UNDER  \n",
       "4                                    SIMPLE  \n",
       "...                                     ...  \n",
       "264307                       NON-AGGRAVATED  \n",
       "264308  FINANCIAL IDENTITY THEFT OVER $ 300  \n",
       "264309        SEX ASSLT OF CHILD BY FAM MBR  \n",
       "264310  FINANCIAL IDENTITY THEFT OVER $ 300  \n",
       "264311        AGG CRIM SEX ABUSE FAM MEMBER  \n",
       "\n",
       "[264312 rows x 3 columns]"
      ]
     },
     "execution_count": 457,
     "metadata": {},
     "output_type": "execute_result"
    }
   ],
   "source": [
    "bag_df = pd.DataFrame(bag)\n",
    "chi_town = bag_df.rename(columns={0: 'Date', 1: 'Charge', 2: 'Description'})\n",
    "chi_town"
   ]
  },
  {
   "cell_type": "code",
   "execution_count": 459,
   "metadata": {},
   "outputs": [
    {
     "data": {
      "text/plain": [
       "array(['THEFT', 'CRIMINAL DAMAGE', 'BATTERY', 'OTHER OFFENSE', 'ROBBERY',\n",
       "       'MOTOR VEHICLE THEFT', 'WEAPONS VIOLATION', 'CRIM SEXUAL ASSAULT',\n",
       "       'ASSAULT', 'BURGLARY', 'DECEPTIVE PRACTICE', 'NARCOTICS',\n",
       "       'CRIMINAL TRESPASS', 'OFFENSE INVOLVING CHILDREN',\n",
       "       'INTERFERENCE WITH PUBLIC OFFICER', 'SEX OFFENSE', 'ARSON',\n",
       "       'PUBLIC PEACE VIOLATION', 'PROSTITUTION', 'LIQUOR LAW VIOLATION',\n",
       "       'HOMICIDE', 'INTIMIDATION', 'KIDNAPPING', 'OBSCENITY', 'STALKING',\n",
       "       'NON-CRIMINAL', 'PUBLIC INDECENCY', 'NON - CRIMINAL',\n",
       "       'CONCEALED CARRY LICENSE VIOLATION', 'GAMBLING',\n",
       "       'HUMAN TRAFFICKING', 'OTHER NARCOTIC VIOLATION'], dtype=object)"
      ]
     },
     "execution_count": 459,
     "metadata": {},
     "output_type": "execute_result"
    }
   ],
   "source": [
    "chi_town['Charge'].unique()"
   ]
  },
  {
   "cell_type": "code",
   "execution_count": 439,
   "metadata": {},
   "outputs": [],
   "source": [
    "with open('chi_town.txt', 'w') as f:\n",
    "    for item in bag:\n",
    "        f.write(\"%s\\n\" % str(item))"
   ]
  },
  {
   "cell_type": "code",
   "execution_count": 460,
   "metadata": {},
   "outputs": [],
   "source": [
    "with open('chi_town.csv', 'w') as f:\n",
    "    for item in bag:\n",
    "        f.write(\"%s\\n\" % str(item))"
   ]
  },
  {
   "cell_type": "code",
   "execution_count": 444,
   "metadata": {},
   "outputs": [
    {
     "data": {
      "text/plain": [
       "'2014'"
      ]
     },
     "execution_count": 444,
     "metadata": {},
     "output_type": "execute_result"
    }
   ],
   "source": [
    "sachel\n",
    "sachel[len(sachel)-1]"
   ]
  },
  {
   "cell_type": "code",
   "execution_count": null,
   "metadata": {},
   "outputs": [],
   "source": []
  }
 ],
 "metadata": {
  "kernelspec": {
   "display_name": "Python 3",
   "language": "python",
   "name": "python3"
  },
  "language_info": {
   "codemirror_mode": {
    "name": "ipython",
    "version": 3
   },
   "file_extension": ".py",
   "mimetype": "text/x-python",
   "name": "python",
   "nbconvert_exporter": "python",
   "pygments_lexer": "ipython3",
   "version": "3.6.9"
  }
 },
 "nbformat": 4,
 "nbformat_minor": 2
}
